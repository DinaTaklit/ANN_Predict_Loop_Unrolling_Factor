{
  "nbformat": 4,
  "nbformat_minor": 0,
  "metadata": {
    "colab": {
      "name": "pfe_keras.ipynb",
      "provenance": [],
      "collapsed_sections": [
        "6vlsWcrszHQ3",
        "S9tzMVFa41tc"
      ]
    },
    "kernelspec": {
      "name": "python3",
      "display_name": "Python 3"
    },
    "accelerator": "GPU"
  },
  "cells": [
    {
      "cell_type": "code",
      "metadata": {
        "id": "Fhl5H9XW5HgY",
        "colab_type": "code",
        "colab": {}
      },
      "source": [
        " !nvidia-smi"
      ],
      "execution_count": 0,
      "outputs": []
    },
    {
      "cell_type": "code",
      "metadata": {
        "id": "FZWzPqTNC8hN",
        "colab_type": "code",
        "colab": {}
      },
      "source": [
        "################################ Data set: x_train from git #############################\n",
        "###Data-set : v3457\n",
        "import pandas as pd\n",
        "url = 'https://raw.githubusercontent.com/DinaTaklit/Loop-Unrolling-Tiramisu-Vf/master/x_train_v3457.csv?token=AE4WVKDPGVM56QVCI5J6INS5EUQV4'\n",
        "x_train_v3457 = pd.read_csv(url, delimiter=';', skiprows=1, usecols=range(23), header=None)\n",
        "#x_train1 = pd.read_csv(url, skiprows=1, header=None)\n",
        "################################ Data set: y_train #############################\n",
        "###Data-set : v3457\n",
        "url = 'https://raw.githubusercontent.com/DinaTaklit/Loop-Unrolling-Tiramisu-Vf/master/y_train_v3457.csv?token=AE4WVKFHICWRRBDPCAJL6MK5EUQYW'\n",
        "y_train_v3457 = pd.read_csv(url, skiprows=1, header=None)"
      ],
      "execution_count": 0,
      "outputs": []
    },
    {
      "cell_type": "code",
      "metadata": {
        "id": "dzFTeMMPj1kH",
        "colab_type": "code",
        "outputId": "bda62b30-da6d-4987-c444-9388add1e688",
        "colab": {
          "base_uri": "https://localhost:8080/",
          "height": 34
        }
      },
      "source": [
        "# Balance classes distribution\n",
        "x_train2 = x_train_v3457.copy()\n",
        "y_train2 = y_train_v3457.copy()\n",
        "x_train2['Unroll'] = y_train2 \n",
        "class0 = x_train2[x_train2['Unroll'] == 0]\n",
        "class1 = x_train2[x_train2['Unroll'] == 1]\n",
        "class2 = x_train2[x_train2['Unroll'] == 2]\n",
        "class3 = x_train2[x_train2['Unroll'] == 3]\n",
        "class4 = x_train2[x_train2['Unroll'] == 4]\n",
        "class5 = x_train2[x_train2['Unroll'] == 5]\n",
        "class6 = x_train2[x_train2['Unroll'] == 6]\n",
        "### get the same number in each class \n",
        "class0 = class0[0:len(class2)]\n",
        "class1 = class1[0:len(class2)]\n",
        "class2 = class2[0:len(class2)]\n",
        "class3 = class3[0:len(class2)]\n",
        "class4 = class4[0:len(class2)]\n",
        "class5 = class5[0:len(class2)]\n",
        "class6 = class6[0:len(class2)]\n",
        "# Build the new x_train\n",
        "x_train = class0\n",
        "x_train = x_train.append(class1)\n",
        "x_train = x_train.append(class2)\n",
        "x_train = x_train.append(class3)\n",
        "x_train = x_train.append(class4)\n",
        "x_train = x_train.append(class5)\n",
        "x_train = x_train.append(class6)\n",
        "len(x_train)\n",
        "#Random inputs \n",
        "from sklearn.utils import shuffle\n",
        "x_train = shuffle(x_train)\n",
        "#Build new y_train \n",
        "y_train = x_train['Unroll']\n",
        "#Drtop the added value from y_train\n",
        "x_train.drop('Unroll', axis=1, inplace=True)\n",
        "print(\"x_train len: \", len(x_train))"
      ],
      "execution_count": 0,
      "outputs": [
        {
          "output_type": "stream",
          "text": [
            "x_train len:  26670\n"
          ],
          "name": "stdout"
        }
      ]
    },
    {
      "cell_type": "code",
      "metadata": {
        "id": "-5XbC3-tsSa9",
        "colab_type": "code",
        "outputId": "76e4a899-4a1c-44ca-afe5-54000eb262a1",
        "colab": {
          "base_uri": "https://localhost:8080/",
          "height": 34
        }
      },
      "source": [
        "from __future__ import print_function\n",
        "import keras\n",
        "from keras.models import Sequential\n",
        "from keras.layers import Activation, Dense, Dropout\n",
        "from keras.callbacks import EarlyStopping, ModelCheckpoint\n",
        "from keras.layers.normalization import BatchNormalization\n",
        "import tensorboardcolab as tb\n",
        "import numpy as np\n",
        "from sklearn.model_selection import cross_val_score\n",
        "from keras.wrappers.scikit_learn import KerasClassifier\n",
        "\n",
        "class MLP():\n",
        "  \n",
        "    def __init__(self, x_data, y_data ,optmizer, kernel_initialization, kernel_regularizer,activation='relu'):\n",
        "      \n",
        "        self.batch_size = 100\n",
        "        self.num_classes = 7\n",
        "        self.epochs = 100000000\n",
        "        #self.epochs = 150\n",
        "        self.patience = 5\n",
        "      \n",
        "        self.x_data = x_data.copy()\n",
        "        self.y_data = y_data.copy()\n",
        "        \n",
        "        self.optimizer = optmizer \n",
        "        self.kernel_initialization = kernel_initialization\n",
        "        self.kernel_regularizer = kernel_regularizer\n",
        "        self.activation = activation \n",
        "\n",
        "        \n",
        "    def preprossing(self,x_train, y_train):\n",
        "      # delete unimportant columns\n",
        "      cols = [0,3,11,4]\n",
        "      x_train.drop(x_train.columns[cols],axis=1,inplace=True)\n",
        "      x_train.fillna(0, inplace=True)\n",
        "    \n",
        "      x_train = self.standarization(x_train)\n",
        "      x_train, y_train, x_test, y_test = self.split_data(x_train, y_train)      \n",
        "      y_train = np.array(y_train).flatten()\n",
        "      y_test= np.array(y_test).flatten()\n",
        "      x_train = x_train.astype('float32')\n",
        "      x_test = x_test.astype('float32')\n",
        "        # convert class vectors to binary class matrices\n",
        "      y_train = keras.utils.to_categorical(y_train, self.num_classes)\n",
        "      y_test = keras.utils.to_categorical(y_test, self.num_classes)\n",
        "      \n",
        "      return x_train, y_train, x_test, y_test\n",
        "\n",
        "    def data_augmentation(self, df,fac):\n",
        "      df.loc[:,6] *= fac\n",
        "      df.loc[:,8] *= fac\n",
        "      df.loc[:,10] *= fac\n",
        "      df.loc[:,12] *= fac\n",
        "      df.loc[:,16] *= fac\n",
        "      return df \n",
        "\n",
        "    \n",
        "    def standarization(self,x_train):\n",
        "      from sklearn import preprocessing\n",
        "      #Standarization: \n",
        "      x_scaler = preprocessing.StandardScaler().fit(x_train)\n",
        "      x_train = x_scaler.transform(x_train)\n",
        "      return x_train\n",
        "  \n",
        "    def split_data(self, x_train, y_train):\n",
        "      import numpy as np\n",
        "      #y_train = np.array(y_train).flatten()\n",
        "\n",
        "      from sklearn.model_selection import train_test_split\n",
        "      x_train, x_test, y_train, y_test = train_test_split(x_train,y_train,test_size=0.2,train_size=0.8,random_state=9)\n",
        "      return x_train, y_train , x_test, y_test \n",
        "   \n",
        "\n",
        "    def multilayer_perceptron(self): \n",
        "\n",
        "      model = Sequential()\n",
        "      model.add(Dense(units=500, input_dim=self.x_train.shape[1], activation=self.activation, kernel_initializer=self.kernel_initialization,\n",
        "                      bias_initializer=\"zeros\", kernel_regularizer= self.kernel_regularizer))\n",
        "      model.add(BatchNormalization())\n",
        "      model.add(Dropout(0.12))\n",
        "\n",
        "      model.add(Dense(units=400, activation=self.activation , kernel_initializer= self.kernel_initialization, bias_initializer=\"zeros\",\n",
        "                      kernel_regularizer= self.kernel_regularizer))\n",
        "      model.add(BatchNormalization())\n",
        "      model.add(Dropout(0.1))\n",
        "\n",
        "      model.add(Dense(units=250, activation=self.activation , kernel_initializer= self.kernel_initialization, bias_initializer=\"zeros\", \n",
        "                      kernel_regularizer= self.kernel_regularizer))\n",
        "      model.add(BatchNormalization())\n",
        "      model.add(Dropout(0.07))\n",
        "\n",
        "      model.add(Dense(units=100, activation=self.activation , kernel_initializer= self.kernel_initialization, bias_initializer=\"zeros\", \n",
        "                     kernel_regularizer= self.kernel_regularizer))\n",
        "      model.add(BatchNormalization())\n",
        "      model.add(Dropout(0.04))\n",
        "\n",
        "      model.add(Dense(units= self.num_classes , activation=\"softmax\"))\n",
        "      \n",
        "      model.compile(loss='categorical_crossentropy',\n",
        "              optimizer=  self.optimizer,\n",
        "              metrics=['accuracy'])\n",
        "      \n",
        "      return model\n",
        "    \n",
        "    def train(self):\n",
        "      self.x_train, self.y_train, self.x_test, self.y_test = self.preprossing(self.x_data,self.y_data)\n",
        "      self.model = self.multilayer_perceptron()\n",
        "      \n",
        "\n",
        "      #Set callback functions to early stop training and save the best model so far\n",
        "      early_stopping = EarlyStopping(monitor='val_loss', min_delta=0, patience=self.patience, verbose=0, mode='auto')\n",
        "      \n",
        "      self.history = self.model.fit(self.x_train,# Features\n",
        "                          self.y_train, # Target vector\n",
        "                          batch_size= self.batch_size, # Number of observations per batch\n",
        "                          epochs=self.epochs, # Number of epochs\n",
        "                          callbacks=[early_stopping], # Early stopping\n",
        "                          verbose=1, # Print description after each epoch\n",
        "                          validation_split=0.2, #used for validation set every each epoch\n",
        "                          validation_data=(self.x_test, self.y_test) # Test data-set to evaluate the model in the end of training\n",
        "                          ) \n",
        "     \n",
        "      self.score = self.model.evaluate(self.x_test, self.y_test, verbose=0)\n",
        "      print('Test loss:', self.score[0])\n",
        "      print('Test accuracy:', self.score[1])\n",
        "      \n",
        "      from sklearn.metrics import classification_report\n",
        "      import numpy as np\n",
        "\n",
        "      Y_test = np.argmax(self.y_test, axis=1) # Convert one-hot to index\n",
        "      y_pred = self.model.predict_classes(self.x_test)\n",
        "      print(classification_report(Y_test, y_pred))\n",
        "     \n",
        "      ## Save the model \n",
        "      self.model.save('my_model.h5')  # creates a HDF5 file 'my_model.h5'\n",
        "      del self.model  # deletes the existing model\n",
        "      \n",
        "                                         \n",
        "      #return self.history.history['loss'], self.history.history['val_loss']\n",
        "      #return self.history.history['loss'],self.history.history['val_loss'], self.history.history['acc'], self.history.history['val_acc']      "
      ],
      "execution_count": 0,
      "outputs": [
        {
          "output_type": "stream",
          "text": [
            "Using TensorFlow backend.\n"
          ],
          "name": "stderr"
        }
      ]
    },
    {
      "cell_type": "code",
      "metadata": {
        "id": "WmBEblUqUA1u",
        "colab_type": "code",
        "outputId": "3a9a333a-f9e9-4f1d-c781-8ef04fe27238",
        "colab": {
          "base_uri": "https://localhost:8080/",
          "height": 1000
        }
      },
      "source": [
        "#Lunch the training and save the model\n",
        "if __name__=='__main__':   \n",
        "  x_data = x_train.copy()\n",
        "  y_data = y_train.copy()\n",
        "  optimizer = keras.optimizers.Adam()\n",
        "  kernel_initialization = 'random_uniform'\n",
        "  kernel_regularizer= None\n",
        "  mlp_without = MLP(x_data, y_data,optimizer, kernel_initialization,kernel_regularizer)\n",
        "  #loss, val_loss, acc, val_acc = mlp_without.train()\n",
        "  mlp_without.train()"
      ],
      "execution_count": 0,
      "outputs": [
        {
          "output_type": "stream",
          "text": [
            "WARNING: Logging before flag parsing goes to stderr.\n",
            "W0703 03:43:56.371192 140348943005568 deprecation_wrapper.py:119] From /usr/local/lib/python3.6/dist-packages/keras/backend/tensorflow_backend.py:74: The name tf.get_default_graph is deprecated. Please use tf.compat.v1.get_default_graph instead.\n",
            "\n",
            "W0703 03:43:56.372872 140348943005568 deprecation_wrapper.py:119] From /usr/local/lib/python3.6/dist-packages/keras/backend/tensorflow_backend.py:517: The name tf.placeholder is deprecated. Please use tf.compat.v1.placeholder instead.\n",
            "\n",
            "W0703 03:43:56.379019 140348943005568 deprecation_wrapper.py:119] From /usr/local/lib/python3.6/dist-packages/keras/backend/tensorflow_backend.py:4138: The name tf.random_uniform is deprecated. Please use tf.random.uniform instead.\n",
            "\n",
            "W0703 03:43:56.465621 140348943005568 deprecation_wrapper.py:119] From /usr/local/lib/python3.6/dist-packages/keras/backend/tensorflow_backend.py:133: The name tf.placeholder_with_default is deprecated. Please use tf.compat.v1.placeholder_with_default instead.\n",
            "\n",
            "W0703 03:43:56.489507 140348943005568 deprecation.py:506] From /usr/local/lib/python3.6/dist-packages/keras/backend/tensorflow_backend.py:3445: calling dropout (from tensorflow.python.ops.nn_ops) with keep_prob is deprecated and will be removed in a future version.\n",
            "Instructions for updating:\n",
            "Please use `rate` instead of `keep_prob`. Rate should be set to `rate = 1 - keep_prob`.\n",
            "W0703 03:43:56.898331 140348943005568 deprecation_wrapper.py:119] From /usr/local/lib/python3.6/dist-packages/keras/optimizers.py:790: The name tf.train.Optimizer is deprecated. Please use tf.compat.v1.train.Optimizer instead.\n",
            "\n",
            "W0703 03:43:56.907197 140348943005568 deprecation_wrapper.py:119] From /usr/local/lib/python3.6/dist-packages/keras/backend/tensorflow_backend.py:3295: The name tf.log is deprecated. Please use tf.math.log instead.\n",
            "\n",
            "W0703 03:43:57.004951 140348943005568 deprecation.py:323] From /usr/local/lib/python3.6/dist-packages/tensorflow/python/ops/math_grad.py:1250: add_dispatch_support.<locals>.wrapper (from tensorflow.python.ops.array_ops) is deprecated and will be removed in a future version.\n",
            "Instructions for updating:\n",
            "Use tf.where in 2.0, which has the same broadcast rule as np.where\n"
          ],
          "name": "stderr"
        },
        {
          "output_type": "stream",
          "text": [
            "Train on 21336 samples, validate on 5334 samples\n",
            "Epoch 1/100000000\n",
            "21336/21336 [==============================] - 6s 300us/step - loss: 2.0633 - acc: 0.1543 - val_loss: 1.9734 - val_acc: 0.1734\n",
            "Epoch 2/100000000\n",
            "21336/21336 [==============================] - 2s 95us/step - loss: 1.9680 - acc: 0.1723 - val_loss: 1.9556 - val_acc: 0.1691\n",
            "Epoch 3/100000000\n",
            "21336/21336 [==============================] - 2s 94us/step - loss: 1.9526 - acc: 0.1841 - val_loss: 1.9455 - val_acc: 0.1839\n",
            "Epoch 4/100000000\n",
            "21336/21336 [==============================] - 2s 98us/step - loss: 1.9442 - acc: 0.1886 - val_loss: 1.9391 - val_acc: 0.1785\n",
            "Epoch 5/100000000\n",
            "21336/21336 [==============================] - 2s 96us/step - loss: 1.9364 - acc: 0.1926 - val_loss: 1.9395 - val_acc: 0.1916\n",
            "Epoch 6/100000000\n",
            "21336/21336 [==============================] - 2s 98us/step - loss: 1.9285 - acc: 0.1984 - val_loss: 1.9270 - val_acc: 0.1954\n",
            "Epoch 7/100000000\n",
            "21336/21336 [==============================] - 2s 97us/step - loss: 1.9164 - acc: 0.2055 - val_loss: 1.9317 - val_acc: 0.1959\n",
            "Epoch 8/100000000\n",
            "21336/21336 [==============================] - 2s 96us/step - loss: 1.9139 - acc: 0.2048 - val_loss: 1.9247 - val_acc: 0.2032\n",
            "Epoch 9/100000000\n",
            "21336/21336 [==============================] - 2s 96us/step - loss: 1.9105 - acc: 0.2085 - val_loss: 1.9324 - val_acc: 0.1899\n",
            "Epoch 10/100000000\n",
            "21336/21336 [==============================] - 2s 94us/step - loss: 1.9085 - acc: 0.2123 - val_loss: 1.9173 - val_acc: 0.2045\n",
            "Epoch 11/100000000\n",
            "21336/21336 [==============================] - 2s 94us/step - loss: 1.9001 - acc: 0.2180 - val_loss: 1.9235 - val_acc: 0.2092\n",
            "Epoch 12/100000000\n",
            "21336/21336 [==============================] - 2s 95us/step - loss: 1.8968 - acc: 0.2229 - val_loss: 1.9190 - val_acc: 0.2062\n",
            "Epoch 13/100000000\n",
            "21336/21336 [==============================] - 2s 94us/step - loss: 1.8932 - acc: 0.2211 - val_loss: 1.9250 - val_acc: 0.1985\n",
            "Epoch 14/100000000\n",
            "21336/21336 [==============================] - 2s 95us/step - loss: 1.8853 - acc: 0.2266 - val_loss: 1.9236 - val_acc: 0.1989\n",
            "Epoch 15/100000000\n",
            "21336/21336 [==============================] - 2s 94us/step - loss: 1.8838 - acc: 0.2238 - val_loss: 1.9238 - val_acc: 0.2047\n",
            "Test loss: 1.923809233836391\n",
            "Test accuracy: 0.20472440947675508\n",
            "              precision    recall  f1-score   support\n",
            "\n",
            "           0       0.23      0.13      0.17       776\n",
            "           1       0.17      0.11      0.14       725\n",
            "           2       0.18      0.35      0.24       751\n",
            "           3       0.12      0.05      0.07       817\n",
            "           4       0.14      0.08      0.10       755\n",
            "           5       0.21      0.19      0.20       769\n",
            "           6       0.27      0.54      0.36       741\n",
            "\n",
            "    accuracy                           0.20      5334\n",
            "   macro avg       0.19      0.21      0.18      5334\n",
            "weighted avg       0.19      0.20      0.18      5334\n",
            "\n"
          ],
          "name": "stdout"
        }
      ]
    },
    {
      "cell_type": "code",
      "metadata": {
        "id": "V4xUId6ydJpg",
        "colab_type": "code",
        "outputId": "d62b8269-febc-4516-8fd3-21cea7f36f89",
        "colab": {
          "resources": {
            "http://localhost:8080/nbextensions/google.colab/files.js": {
              "data": "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",
              "ok": true,
              "headers": [
                [
                  "content-type",
                  "application/javascript"
                ]
              ],
              "status": 200,
              "status_text": ""
            }
          },
          "base_uri": "https://localhost:8080/",
          "height": 74
        }
      },
      "source": [
        "################################ Test benchmarks : Data #############################\n",
        "import pandas as pd\n",
        "from google.colab import files\n",
        "import io\n",
        "uploaded1 = files.upload()\n",
        "x_data= pd.read_csv(io.StringIO(uploaded1['benchmarks_data.csv'].decode('utf-8')),  delimiter=',', skiprows=1, usecols=range(23), header=None)"
      ],
      "execution_count": 0,
      "outputs": [
        {
          "output_type": "display_data",
          "data": {
            "text/html": [
              "\n",
              "     <input type=\"file\" id=\"files-ff823832-9a27-4454-9622-06b5e40e7730\" name=\"files[]\" multiple disabled />\n",
              "     <output id=\"result-ff823832-9a27-4454-9622-06b5e40e7730\">\n",
              "      Upload widget is only available when the cell has been executed in the\n",
              "      current browser session. Please rerun this cell to enable.\n",
              "      </output>\n",
              "      <script src=\"/nbextensions/google.colab/files.js\"></script> "
            ],
            "text/plain": [
              "<IPython.core.display.HTML object>"
            ]
          },
          "metadata": {
            "tags": []
          }
        },
        {
          "output_type": "stream",
          "text": [
            "Saving benchmarks_data.csv to benchmarks_data.csv\n"
          ],
          "name": "stdout"
        }
      ]
    },
    {
      "cell_type": "code",
      "metadata": {
        "id": "412_x2mIdKuN",
        "colab_type": "code",
        "outputId": "c7ba49d9-1c22-4dda-977a-9801985a08fe",
        "colab": {
          "resources": {
            "http://localhost:8080/nbextensions/google.colab/files.js": {
              "data": "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",
              "ok": true,
              "headers": [
                [
                  "content-type",
                  "application/javascript"
                ]
              ],
              "status": 200,
              "status_text": ""
            }
          },
          "base_uri": "https://localhost:8080/",
          "height": 74
        }
      },
      "source": [
        "################################ Test benchmarks : Real labels #############################\n",
        "import pandas as pd\n",
        "from google.colab import files\n",
        "import io\n",
        "uploaded1 = files.upload()\n",
        "y_data = pd.read_csv(io.StringIO(uploaded1['becnhmarks_lables.csv'].decode('utf-8')), skiprows=1, header=None)"
      ],
      "execution_count": 0,
      "outputs": [
        {
          "output_type": "display_data",
          "data": {
            "text/html": [
              "\n",
              "     <input type=\"file\" id=\"files-d6d14e22-6702-4cb1-b461-d48c5e3bd489\" name=\"files[]\" multiple disabled />\n",
              "     <output id=\"result-d6d14e22-6702-4cb1-b461-d48c5e3bd489\">\n",
              "      Upload widget is only available when the cell has been executed in the\n",
              "      current browser session. Please rerun this cell to enable.\n",
              "      </output>\n",
              "      <script src=\"/nbextensions/google.colab/files.js\"></script> "
            ],
            "text/plain": [
              "<IPython.core.display.HTML object>"
            ]
          },
          "metadata": {
            "tags": []
          }
        },
        {
          "output_type": "stream",
          "text": [
            "Saving becnhmarks_lables.csv to becnhmarks_lables.csv\n"
          ],
          "name": "stdout"
        }
      ]
    },
    {
      "cell_type": "code",
      "metadata": {
        "id": "nJPTgv2BTetX",
        "colab_type": "code",
        "outputId": "257d1f59-7424-4b92-af7b-6ad0553afcfc",
        "colab": {
          "base_uri": "https://localhost:8080/",
          "height": 34
        }
      },
      "source": [
        "# Predicted the factors of the entire benchmarks\n",
        "cols = [0,3,11,4]\n",
        "x_data.drop(x_data.columns[cols],axis=1,inplace=True)\n",
        "x_data.fillna(0, inplace=True)\n",
        "import numpy as np\n",
        "y_data= np.array(y_data).flatten()\n",
        "from keras.models import load_model\n",
        "model = load_model('my_model.h5')\n",
        "y_pred = model.predict_classes(x_data)\n",
        "print(y_pred)"
      ],
      "execution_count": 0,
      "outputs": [
        {
          "output_type": "stream",
          "text": [
            "[5 5 5 0 0 0]\n"
          ],
          "name": "stdout"
        }
      ]
    },
    {
      "cell_type": "code",
      "metadata": {
        "id": "zP7-7KX0iOjr",
        "colab_type": "code",
        "outputId": "efce72a9-d964-4b58-c8da-9e29a773b0e8",
        "colab": {
          "base_uri": "https://localhost:8080/",
          "height": 34
        }
      },
      "source": [
        "import sklearn\n",
        "acc = sklearn.metrics.accuracy_score(np.array(y_pred), np.array(y_data))\n",
        "print(acc)"
      ],
      "execution_count": 0,
      "outputs": [
        {
          "output_type": "stream",
          "text": [
            "0.0\n"
          ],
          "name": "stdout"
        }
      ]
    },
    {
      "cell_type": "code",
      "metadata": {
        "id": "jiM5gj7dirj0",
        "colab_type": "code",
        "outputId": "1b4011fd-25cc-4428-bbf1-de7d1b97daed",
        "colab": {
          "base_uri": "https://localhost:8080/",
          "height": 34
        }
      },
      "source": [
        "print(y_data)"
      ],
      "execution_count": 0,
      "outputs": [
        {
          "output_type": "stream",
          "text": [
            "[1 4 0 3 1 2]\n"
          ],
          "name": "stdout"
        }
      ]
    },
    {
      "cell_type": "code",
      "metadata": {
        "id": "-2KfrPZCeTDx",
        "colab_type": "code",
        "colab": {}
      },
      "source": [
        "print(y_pred)"
      ],
      "execution_count": 0,
      "outputs": []
    },
    {
      "cell_type": "code",
      "metadata": {
        "id": "pRlTnxjhwFlN",
        "colab_type": "code",
        "colab": {}
      },
      "source": [
        "if __name__=='__main__':\n",
        "  \n",
        "     \n",
        "  x_data = x_train_v3457.copy()\n",
        "  y_data = y_train_v3457.copy()\n",
        "\n",
        "  optimizer = keras.optimizers.Adam()\n",
        "  kernel_initialization = 'random_uniform'\n",
        "  kernel_regularizer= None\n",
        "  mlp_without = MLP(x_data, y_data,optimizer, kernel_initialization,kernel_regularizer)\n",
        "  #loss, val_loss, acc, val_acc = mlp_without.train()\n",
        "  mlp_without.train()"
      ],
      "execution_count": 0,
      "outputs": []
    },
    {
      "cell_type": "code",
      "metadata": {
        "id": "hrc8NDGeVG9G",
        "colab_type": "code",
        "outputId": "f24147ca-6359-41e1-de39-5b051e802896",
        "colab": {
          "base_uri": "https://localhost:8080/",
          "height": 34
        }
      },
      "source": [
        "from sklearn.model_selection import train_test_split\n",
        "x_train = x_train1.copy()\n",
        "y_train = y_train1.copy()\n",
        "cols = [0,3,11,4]\n",
        "x_train.drop(x_train.columns[cols],axis=1,inplace=True)\n",
        "x_train.fillna(0, inplace=True)\n",
        "x_train, x_test, y_train, y_test = train_test_split(x_train,y_train,test_size=0.02,train_size=0.8,random_state=9)\n",
        "len(x_test)"
      ],
      "execution_count": 0,
      "outputs": [
        {
          "output_type": "execute_result",
          "data": {
            "text/plain": [
              "1539"
            ]
          },
          "metadata": {
            "tags": []
          },
          "execution_count": 11
        }
      ]
    },
    {
      "cell_type": "code",
      "metadata": {
        "id": "i8KkZWfFcEcn",
        "colab_type": "code",
        "colab": {}
      },
      "source": [
        "from keras.models import load_model\n",
        "\n",
        "#model.save('my_model.h5')  # creates a HDF5 file 'my_model.h5'\n",
        "#del model  # deletes the existing model\n",
        "\n",
        "# returns a compiled model\n",
        "# identical to the previous one\n",
        "model = load_model('my_model.h5')\n",
        "y_pred = model.predict_classes(x_test)\n",
        "\n",
        "import sklearn\n",
        "acc = sklearn.metrics.accuracy_score(np.array(y_pred), \n",
        "                                     np.array(y_test))\n",
        "print(acc)"
      ],
      "execution_count": 0,
      "outputs": []
    },
    {
      "cell_type": "code",
      "metadata": {
        "id": "bl-C1raXdCYs",
        "colab_type": "code",
        "outputId": "1e1b5600-4171-4e44-ca78-cdd7d16ab222",
        "colab": {
          "base_uri": "https://localhost:8080/",
          "height": 34
        }
      },
      "source": [
        "import sklearn\n",
        "acc = sklearn.metrics.accuracy_score(np.array(y_pred), \n",
        "                                     np.array(y_test))\n",
        "print(acc)"
      ],
      "execution_count": 0,
      "outputs": [
        {
          "output_type": "stream",
          "text": [
            "0.1572449642625081\n"
          ],
          "name": "stdout"
        }
      ]
    },
    {
      "cell_type": "code",
      "metadata": {
        "id": "MF1Z8gVk_TVz",
        "colab_type": "code",
        "outputId": "3d78f410-0fd8-4c2f-d84f-6d8238847b3d",
        "colab": {
          "base_uri": "https://localhost:8080/",
          "height": 272
        }
      },
      "source": [
        "x_train1 = x_train.copy()\n",
        "y_train1 = y_train.copy()\n",
        "x_train1.fillna(0, inplace=True)\n",
        "cols = [0,3,11,4]\n",
        "x_train1.drop(x_train1.columns[cols],axis=1,inplace=True)\n",
        "x_train1.fillna(0, inplace=True)\n",
        "from sklearn.model_selection import train_test_split\n",
        "x_train1, x_test1, y_train1, y_test1 = train_test_split(x_train1,y_train1,test_size=0.2,train_size=0.8,random_state=9)\n",
        "#Trying with decesion tree \n",
        "from sklearn.tree import DecisionTreeClassifier  \n",
        "classifier = DecisionTreeClassifier()  \n",
        "classifier.fit(x_train1, y_train1)\n",
        "y_pred = classifier.predict(x_test1) \n",
        "\n",
        "from sklearn.metrics import classification_report, confusion_matrix  \n",
        "print(confusion_matrix(y_test1, y_pred))  \n",
        "print(classification_report(y_test1, y_pred)) "
      ],
      "execution_count": 0,
      "outputs": [
        {
          "output_type": "stream",
          "text": [
            "[[654 548 560 497]\n",
            " [625 586 590 404]\n",
            " [640 549 644 406]\n",
            " [460 445 402 888]]\n",
            "              precision    recall  f1-score   support\n",
            "\n",
            "           0       0.27      0.29      0.28      2259\n",
            "           4       0.28      0.27      0.27      2205\n",
            "           5       0.29      0.29      0.29      2239\n",
            "           6       0.40      0.40      0.40      2195\n",
            "\n",
            "    accuracy                           0.31      8898\n",
            "   macro avg       0.31      0.31      0.31      8898\n",
            "weighted avg       0.31      0.31      0.31      8898\n",
            "\n"
          ],
          "name": "stdout"
        }
      ]
    },
    {
      "cell_type": "code",
      "metadata": {
        "id": "eLLUN0wyO3b4",
        "colab_type": "code",
        "outputId": "fe872bdf-dff8-4859-fb91-59b95547d4c4",
        "colab": {
          "resources": {
            "http://localhost:8080/nbextensions/google.colab/files.js": {
              "data": "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",
              "ok": true,
              "headers": [
                [
                  "content-type",
                  "application/javascript"
                ]
              ],
              "status": 200,
              "status_text": ""
            }
          },
          "base_uri": "https://localhost:8080/",
          "height": 74
        }
      },
      "source": [
        "################################ Data set: y_train #############################\n",
        "import pandas as pd\n",
        "from google.colab import files\n",
        "import io\n",
        "uploaded1 = files.upload()\n",
        "y_train1 = pd.read_csv(io.StringIO(uploaded1['y_train.csv'].decode('utf-8')), skiprows=1, header=None)"
      ],
      "execution_count": 0,
      "outputs": [
        {
          "output_type": "display_data",
          "data": {
            "text/html": [
              "\n",
              "     <input type=\"file\" id=\"files-f2f3fccd-e02d-48e3-8cda-d166d9f441f3\" name=\"files[]\" multiple disabled />\n",
              "     <output id=\"result-f2f3fccd-e02d-48e3-8cda-d166d9f441f3\">\n",
              "      Upload widget is only available when the cell has been executed in the\n",
              "      current browser session. Please rerun this cell to enable.\n",
              "      </output>\n",
              "      <script src=\"/nbextensions/google.colab/files.js\"></script> "
            ],
            "text/plain": [
              "<IPython.core.display.HTML object>"
            ]
          },
          "metadata": {
            "tags": []
          }
        },
        {
          "output_type": "stream",
          "text": [
            "Saving y_train.csv to y_train (1).csv\n"
          ],
          "name": "stdout"
        }
      ]
    },
    {
      "cell_type": "code",
      "metadata": {
        "id": "7oYMfdHPQAZN",
        "colab_type": "code",
        "outputId": "486c1eb4-cc33-4169-9e56-cfa7ab266d32",
        "colab": {
          "base_uri": "https://localhost:8080/",
          "height": 318
        }
      },
      "source": [
        "y_train1.hist(bins=20, grid=False, xlabelsize=12, ylabelsize=12)"
      ],
      "execution_count": 0,
      "outputs": [
        {
          "output_type": "execute_result",
          "data": {
            "text/plain": [
              "array([[<matplotlib.axes._subplots.AxesSubplot object at 0x7f98044df1d0>]],\n",
              "      dtype=object)"
            ]
          },
          "metadata": {
            "tags": []
          },
          "execution_count": 18
        },
        {
          "output_type": "display_data",
          "data": {
            "image/png": "[encoded data removed]",
            "text/plain": [
              "<Figure size 432x288 with 1 Axes>"
            ]
          },
          "metadata": {
            "tags": []
          }
        }
      ]
    },
    {
      "cell_type": "code",
      "metadata": {
        "id": "jDeNiPecPkpm",
        "colab_type": "code",
        "colab": {}
      },
      "source": [
        "y_train1.hist(bins=20, grid=False, xlabelsize=12, ylabelsize=12)"
      ],
      "execution_count": 0,
      "outputs": []
    },
    {
      "cell_type": "code",
      "metadata": {
        "id": "lTWmnFeDF0kB",
        "colab_type": "code",
        "outputId": "80da4f83-0d54-4e89-c628-46796bcea2e0",
        "colab": {
          "base_uri": "https://localhost:8080/",
          "height": 318
        }
      },
      "source": [
        "## Distribution de y\n",
        "#from matplotlib import pyplot as plt\n",
        "y_train1.hist(bins=20, grid=False, xlabelsize=12, ylabelsize=12)\n",
        "#plt.title('Distribution des données dans les 64 classes', fontsize=16)\n",
        "#plt.xlabel(\"Classes\", fontsize=15)\n",
        "#plt.ylabel(\"Nombre de données\",fontsize=15)\n",
        "#plt.xlim([-5,20])"
      ],
      "execution_count": 0,
      "outputs": [
        {
          "output_type": "execute_result",
          "data": {
            "text/plain": [
              "array([[<matplotlib.axes._subplots.AxesSubplot object at 0x7f9812fd9208>]],\n",
              "      dtype=object)"
            ]
          },
          "metadata": {
            "tags": []
          },
          "execution_count": 13
        },
        {
          "output_type": "display_data",
          "data": {
            "image/png": "[encoded data removed]",
            "text/plain": [
              "<Figure size 432x288 with 1 Axes>"
            ]
          },
          "metadata": {
            "tags": []
          }
        }
      ]
    },
    {
      "cell_type": "code",
      "metadata": {
        "id": "2q_j2Ca1euh8",
        "colab_type": "code",
        "outputId": "6982539f-e464-45c2-d32c-7059c967f4a0",
        "colab": {
          "base_uri": "https://localhost:8080/",
          "height": 573
        }
      },
      "source": [
        "import matplotlib.pyplot as plt\n",
        "import numpy as np \n",
        "  \n",
        "  # Les plots \n",
        "  # Create count of the number of epochs\n",
        "epoch_count = range(1, len(loss_adam1) + 1)\n",
        "\n",
        "\n",
        "\n",
        "# y_train = np.array(y_train).flatten()\n",
        "plt.plot(epoch_count, loss_without, 'b-')\n",
        "plt.plot(epoch_count, loss_l1, 'g-')\n",
        "plt.plot(epoch_count, loss_l2, 'r-')\n",
        "\n",
        "\n",
        "   \n",
        "  \n",
        "plt.title(\"Fonction de perte du modèle en traitment en fonction de nombre d'itérations en appliquant les deux type de régularisation ou non\")\n",
        "plt.legend(['Sans' ,'L1', 'L2'])\n",
        "plt.xlabel(\"Nombre d'itérations\")\n",
        "plt.ylabel(\"Fonction de perte\")\n",
        "plt.show();\n",
        "  \n",
        "plt.plot(epoch_count, loss_without, 'b-')\n",
        "plt.plot(epoch_count, loss_l1, 'g-')\n",
        "plt.plot(epoch_count, loss_l2, 'r-')\n",
        "\n",
        "  \n",
        "  \n",
        "plt.title(\"Fonction de perte du modèle en test en fonction  de nombre d'itérations en appliquant les deux type de régularisation ou non\")\n",
        "plt.legend(['Sans' ,'L1', 'L2'])\n",
        "plt.xlabel(\"Nombre d'itérations\")\n",
        "plt.ylabel(\"Fonction de perte\")\n",
        "plt.show();\n"
      ],
      "execution_count": 0,
      "outputs": [
        {
          "output_type": "display_data",
          "data": {
            "image/png": "[encoded data removed]",
            "text/plain": [
              "<Figure size 432x288 with 1 Axes>"
            ]
          },
          "metadata": {
            "tags": []
          }
        },
        {
          "output_type": "display_data",
          "data": {
            "image/png": "[encoded data removed]",
            "text/plain": [
              "<Figure size 432x288 with 1 Axes>"
            ]
          },
          "metadata": {
            "tags": []
          }
        }
      ]
    },
    {
      "cell_type": "code",
      "metadata": {
        "id": "0uXf9PiguQyM",
        "colab_type": "code",
        "colab": {}
      },
      "source": [
        "################################ Data set: y_train #############################\n",
        "import pandas as pd\n",
        "from google.colab import files\n",
        "import io\n",
        "uploaded1 = files.upload()\n",
        "y_train1 = pd.read_csv(io.StringIO(uploaded1['y_train.csv'].decode('utf-8')), skiprows=1, header=None)"
      ],
      "execution_count": 0,
      "outputs": []
    },
    {
      "cell_type": "code",
      "metadata": {
        "id": "EcQqvrLHutPn",
        "colab_type": "code",
        "colab": {}
      },
      "source": [
        "################################ Data set: x_train #############################\n",
        "import pandas as pd\n",
        "from google.colab import files\n",
        "import io\n",
        "uploaded = files.upload()\n",
        "x_train1 = pd.read_csv(io.StringIO(uploaded['x_train.csv'].decode('utf-8')), skiprows=1, usecols=range(23), header=None)"
      ],
      "execution_count": 0,
      "outputs": []
    },
    {
      "cell_type": "code",
      "metadata": {
        "id": "B0aGgC_4WsLj",
        "colab_type": "code",
        "colab": {}
      },
      "source": [
        "if __name__=='__main__':\n",
        "  x_data = x_train1.copy()\n",
        "  y_data = y_train1.copy()\n",
        "  \n",
        "  optimizer = keras.optimizers.Adam()\n",
        "  kernel_initialization = 'random_uniform'\n",
        "  kernel_regularizer= None\n",
        "  mlp_without = MLP(x_data, y_data,optimizer, kernel_initialization,kernel_regularizer)\n",
        "  loss_without, val_loss_without = mlp_without.train()\n",
        "  \n",
        "  optimizer = keras.optimizers.Adam()\n",
        "  kernel_initialization = 'random_uniform'\n",
        "  kernel_regularizer= keras.regularizers.l1()\n",
        "  mlp_l1 = MLP(x_data, y_data,optimizer, kernel_initialization,kernel_regularizer)\n",
        "  loss_l1, val_loss_l1 = mlp_l1.train()\n",
        "  \n",
        "  optimizer = keras.optimizers.Adam()\n",
        "  kernel_initialization = 'random_uniform'\n",
        "  kernel_regularizer= keras.regularizers.l2()\n",
        "  mlp_l2 = MLP(x_data, y_data,optimizer, kernel_initialization,kernel_regularizer)\n",
        "  loss_l2, val_loss_l2 = mlp_l2.train()\n",
        "\n",
        "  "
      ],
      "execution_count": 0,
      "outputs": []
    },
    {
      "cell_type": "code",
      "metadata": {
        "id": "dLZBURfmWp2Y",
        "colab_type": "code",
        "colab": {}
      },
      "source": [
        "import matplotlib.pyplot as plt\n",
        "import numpy as np \n",
        "  \n",
        "  # Les plots \n",
        "  # Create count of the number of epochs\n",
        "epoch_count = range(1, len(loss_adam1) + 1)\n",
        "\n",
        "\n",
        "\n",
        "# y_train = np.array(y_train).flatten()\n",
        "plt.plot(epoch_count, loss_without, 'b-')\n",
        "plt.plot(epoch_count, loss_l1, 'g-')\n",
        "plt.plot(epoch_count, loss_l2, 'r-')\n",
        "\n",
        "\n",
        "   \n",
        "  \n",
        "plt.title(\"Fonction de perte du modèle en traitment en fonction de nombre d'itérations en appliquant les deux type de régularisation ou non\")\n",
        "plt.legend(['Sans' ,'L1', 'L2'])\n",
        "plt.xlabel(\"Nombre d'itérations\")\n",
        "plt.ylabel(\"Fonction de perte\")\n",
        "plt.show();\n",
        "  \n",
        "plt.plot(epoch_count, loss_without, 'b-')\n",
        "plt.plot(epoch_count, loss_l1, 'g-')\n",
        "plt.plot(epoch_count, loss_l2, 'r-')\n",
        "\n",
        "  \n",
        "  \n",
        "plt.title(\"Fonction de perte du modèle en test en fonction  de nombre d'itérations en appliquant les deux type de régularisation ou non\")\n",
        "plt.legend(['Sans' ,'L1', 'L2'])\n",
        "plt.xlabel(\"Nombre d'itérations\")\n",
        "plt.ylabel(\"Fonction de perte\")\n",
        "plt.show();\n"
      ],
      "execution_count": 0,
      "outputs": []
    },
    {
      "cell_type": "code",
      "metadata": {
        "id": "EqyhFI0sK2Pf",
        "colab_type": "code",
        "colab": {}
      },
      "source": [
        "if __name__=='__main__':\n",
        "  x_data = x_train1.copy()\n",
        "  y_data = y_train1.copy()\n",
        "  \n",
        "  #pour tester diff diff initialization \n",
        "  optimizer = keras.optimizers.Adam()\n",
        "  kernel_initialization = 'random_normal'\n",
        "  mlp_rn = MLP(x_data, y_data,optimizer, kernel_initialization)\n",
        "  loss_rn, val_loss_rn = mlp_rn.train()\n",
        "  \n",
        "  optimizer = keras.optimizers.Adam()\n",
        "  kernel_initialization = 'random_uniform'\n",
        "  mlp_ru = MLP(x_data, y_data,optimizer, kernel_initialization)\n",
        "  loss_ru, val_loss_ru = mlp_ru.train()\n",
        "\n",
        "  \n",
        "  optimizer = keras.optimizers.Adam()\n",
        "  kernel_initialization = keras.initializers.VarianceScaling()\n",
        "  mlp_vs = MLP(x_data, y_data,optimizer, kernel_initialization)\n",
        "  loss_vs, val_loss_vs = mlp_vs.train()\n",
        "   \n",
        "    \n",
        "  optimizer = keras.optimizers.Adam()\n",
        "  kernel_initialization = keras.initializers.glorot_normal()\n",
        "  mlp_gn = MLP(x_data, y_data,optimizer, kernel_initialization)\n",
        "  loss_gn, val_loss_gn = mlp_gn.train()\n",
        "  \n",
        "      \n",
        "  optimizer = keras.optimizers.Adam()\n",
        "  kernel_initialization = keras.initializers.glorot_uniform()\n",
        "  mlp_gu = MLP(x_data, y_data,optimizer, kernel_initialization)\n",
        "  loss_gu, val_loss_gu = mlp_gu.train()\n",
        "  \n",
        "  optimizer = keras.optimizers.Adam()\n",
        "  kernel_initialization = keras.initializers.he_normal()\n",
        "  mlp_he = MLP(x_data, y_data,optimizer, kernel_initialization)\n",
        "  loss_he, val_loss_he = mlp_he.train()\n",
        "  \n",
        "  optimizer = keras.optimizers.Adam()\n",
        "  kernel_initialization = keras.initializers.he_uniform()\n",
        "  mlp_hu = MLP(x_data, y_data,optimizer, kernel_initialization)\n",
        "  loss_hu, val_loss_hu = mlp_hu.train()"
      ],
      "execution_count": 0,
      "outputs": []
    },
    {
      "cell_type": "code",
      "metadata": {
        "id": "vCbGNNs7Ky_c",
        "colab_type": "code",
        "outputId": "20ce0ea8-c3dc-435c-c014-7757ca2d6155",
        "colab": {
          "base_uri": "https://localhost:8080/",
          "height": 573
        }
      },
      "source": [
        "import matplotlib.pyplot as plt\n",
        "import numpy as np \n",
        "  \n",
        "  # Les plots \n",
        "  # Create count of the number of epochs\n",
        "epoch_count = range(1, len(loss_rn) + 1)\n",
        "\n",
        "\n",
        "\n",
        "# y_train = np.array(y_train).flatten()\n",
        "plt.plot(epoch_count, loss_rn, 'b-')\n",
        "plt.plot(epoch_count, loss_ru, 'g-')\n",
        "plt.plot(epoch_count, loss_vs, 'r-')\n",
        "plt.plot(epoch_count, loss_gn, 'c-')\n",
        "plt.plot(epoch_count, loss_gu, 'm-')\n",
        "plt.plot(epoch_count, loss_he, 'y-')\n",
        "plt.plot(epoch_count, loss_hu, 'k-')\n",
        "\n",
        "   \n",
        "  \n",
        "plt.title(\"Fonction de perte du modèle en traitment en fonction nombre d'itérations pour différentes valeurs d'ininitialisation du poids\")\n",
        "plt.legend(['random_normal' ,'random_uniform', 'variance_scaling', 'glorot_normal', 'glorot_uniform', 'he_normal', 'he_uniform'])\n",
        "plt.xlabel(\"Nombre d'itérations\")\n",
        "plt.ylabel(\"Fonction de perte\")\n",
        "plt.show();\n",
        "  \n",
        "plt.plot(epoch_count, val_loss_rn, 'b-')\n",
        "plt.plot(epoch_count, val_loss_ru, 'g-')\n",
        "plt.plot(epoch_count, val_loss_vs, 'r-')\n",
        "plt.plot(epoch_count, val_loss_gn, 'c-')\n",
        "plt.plot(epoch_count, val_loss_gu, 'm-')\n",
        "plt.plot(epoch_count, val_loss_he, 'y-')\n",
        "plt.plot(epoch_count, val_loss_hu, 'k-')\n",
        "\n",
        "  \n",
        "  \n",
        "plt.title(\"Fonction de perte du modèle en test en fonction nombre d'itérations pour différentes valeurs de taux d'ininitialisation du poids\")\n",
        "plt.legend(['random_normal' ,'random_uniform', 'variance_scaling', 'glorot_normal', 'glorot_uniform', 'he_normal', 'he_uniform'])\n",
        "plt.xlabel(\"Nombre d'itérations\")\n",
        "plt.ylabel(\"Fonction de perte\")\n",
        "plt.show();\n"
      ],
      "execution_count": 0,
      "outputs": [
        {
          "output_type": "display_data",
          "data": {
            "image/png": "[encoded data removed]",
            "text/plain": [
              "<Figure size 432x288 with 1 Axes>"
            ]
          },
          "metadata": {
            "tags": []
          }
        },
        {
          "output_type": "display_data",
          "data": {
            "image/png": "[encoded data removed]",
            "text/plain": [
              "<Figure size 432x288 with 1 Axes>"
            ]
          },
          "metadata": {
            "tags": []
          }
        }
      ]
    },
    {
      "cell_type": "code",
      "metadata": {
        "id": "X9a2U5AyrO_U",
        "colab_type": "code",
        "colab": {}
      },
      "source": [
        "  # pour tester diff learning rate \n",
        "  \n",
        "  optimizer = keras.optimizers.Adam()\n",
        "  mlp_adam = MLP(x_data, y_data,optimizer)\n",
        "  loss_adam, val_loss_adam = mlp_adam.train()\n",
        "  \n",
        "  optimizer = keras.optimizers.Adam(lr= 0.1)\n",
        "  mlp_adam1 = MLP(x_data, y_data,optimizer)\n",
        "  loss_adam1, val_loss_adam1 = mlp_adam1.train()\n",
        "  \n",
        "  optimizer = keras.optimizers.Adam(lr= 0.01)\n",
        "  mlp_adam2 = MLP(x_data, y_data,optimizer)\n",
        "  loss_adam2, val_loss_adam2 = mlp_adam2.train()\n",
        "  \n",
        "  optimizer = keras.optimizers.Adam(lr= 0.001)\n",
        "  mlp_adam3 = MLP(x_data, y_data,optimizer)\n",
        "  loss_adam3, val_loss_adam3 = mlp_adam3.train()\n",
        "  \n",
        "  optimizer = keras.optimizers.Adam(lr= 0.0001)\n",
        "  mlp_adam4 = MLP(x_data, y_data,optimizer)\n",
        "  loss_adam4, val_loss_adam4 = mlp_adam4.train()"
      ],
      "execution_count": 0,
      "outputs": []
    },
    {
      "cell_type": "code",
      "metadata": {
        "id": "mnfV5j4hs15m",
        "colab_type": "code",
        "colab": {}
      },
      "source": [
        "import matplotlib.pyplot as plt\n",
        "import numpy as np \n",
        "  \n",
        "  # Les plots \n",
        "  # Create count of the number of epochs\n",
        "epoch_count = range(1, len(loss_adam1) + 1)\n",
        "\n",
        "\n",
        "\n",
        "# y_train = np.array(y_train).flatten()\n",
        "plt.plot(epoch_count, loss_adam, 'k-')\n",
        "plt.plot(epoch_count, loss_adam1, 'm-')\n",
        "plt.plot(epoch_count, loss_adam2, 'y-')\n",
        "plt.plot(epoch_count, loss_adam3, 'r-')\n",
        "plt.plot(epoch_count, loss_adam4, 'c-')\n",
        "\n",
        "  \n",
        "  \n",
        " \n",
        "  \n",
        "  \n",
        "plt.title(\"Fonction de perte du modèle en traitment en fonction nombre d'itérations pour différentes valeurs de taux d'apprentissage\")\n",
        "plt.legend(['Default value' ,'Rate 0.1', 'Rate 0.01', 'Rate 0.001', 'Rate 0.0001'])\n",
        "plt.xlabel(\"Epoch\")\n",
        "plt.ylabel(\"Loss\")\n",
        "plt.show();\n",
        "  \n",
        "plt.plot(epoch_count, val_loss_adam, 'k-')\n",
        "plt.plot(epoch_count, val_loss_adam1, 'm-')\n",
        "plt.plot(epoch_count, val_loss_adam2, 'y-')\n",
        "plt.plot(epoch_count, val_loss_adam3, 'r-')\n",
        "plt.plot(epoch_count, val_loss_adam4, 'c-')\n",
        "\n",
        "  \n",
        "  \n",
        "plt.title(\"Fonction de perte du modèle en test en fonction nombre d'itérations pour différentes valeurs de taux d'apprentissage\")\n",
        "plt.legend(['Default value' ,'Rate 0.1', 'Rate 0.01', 'Rate 0.001', 'Rate 0.0001'])\n",
        "plt.xlabel(\"Epoch\")\n",
        "plt.ylabel(\"Loss\")\n",
        "plt.show();"
      ],
      "execution_count": 0,
      "outputs": []
    },
    {
      "cell_type": "code",
      "metadata": {
        "id": "fOTO4IY7kn5Z",
        "colab_type": "code",
        "colab": {}
      },
      "source": [
        "  #pour tester diff algo d'optimisation\n",
        "  \n",
        "  #mlp_sgd =   MLP(x_data, y_data,'sgd')\n",
        "  #loss_sgd, val_loss_sgd, acc_sgd, val_acc_sgd = mlp_sgd.train()\n",
        "  \n",
        "  #mlp_adagard = MLP(x_data, y_data,'adagrad')\n",
        "  #loss_adagard, val_loss_adagard, acc_adagard, val_acc_adagard = mlp_adagard.train()\n",
        "  \n",
        "  #mlp_adadelta = MLP(x_data, y_data,'adadelta')\n",
        "  #loss_adadelta, val_loss_adadelta, acc_adadelta, val_acc_adadelta = mlp_adadelta.train()\n",
        "    \n",
        "  #mlp_adamax = MLP(x_data, y_data,'adamax')\n",
        "  #loss_adamax, val_loss_adamax, acc_adamax, val_acc_adamax = mlp_adamax.train()\n",
        "    \n",
        "  #mlp_adam = MLP(x_data, y_data,'adam')\n",
        "  #loss_adam, val_loss_adam, acc_adam, val_acc_adam = mlp_adam.train()\n",
        "    \n",
        "  #mlp_nadam = MLP(x_data, y_data,'nadam')\n",
        "  #loss_nadam, val_loss_nadam, acc_nadam, val_acc_nadam = mlp_nadam.train()\n",
        "    \n",
        "  #mlp_rmsprop = MLP(x_data, y_data,'rmsprop')\n",
        "  #loss_rmsprop, val_loss_rmsprop, acc_rmsprop, val_acc_rmsprop = mlp_rmsprop.train()  "
      ],
      "execution_count": 0,
      "outputs": []
    },
    {
      "cell_type": "code",
      "metadata": {
        "id": "hREp0FRnoERz",
        "colab_type": "code",
        "outputId": "ff795e10-88da-4b66-d425-18f33f8626b2",
        "colab": {
          "base_uri": "https://localhost:8080/",
          "height": 573
        }
      },
      "source": [
        "#plot de diff algo d'optimisation\n",
        "import matplotlib.pyplot as plt\n",
        "import numpy as np \n",
        "  \n",
        "  # Les plots \n",
        "  # Create count of the number of epochs\n",
        "epoch_count = range(1, len(loss_sgd) + 1)\n",
        "\n",
        "\n",
        "\n",
        "# y_train = np.array(y_train).flatten()\n",
        "\n",
        "plt.plot(epoch_count, loss_sgd, 'b-')\n",
        "plt.plot(epoch_count, loss_adagard, 'g-')\n",
        "plt.plot(epoch_count, loss_adadelta, 'r-')\n",
        "plt.plot(epoch_count, loss_adamax, 'c-')\n",
        "plt.plot(epoch_count, loss_adam, 'm-')\n",
        "plt.plot(epoch_count, loss_nadam, 'y-')\n",
        "plt.plot(epoch_count, loss_rmsprop, 'k-')\n",
        "  \n",
        "  \n",
        "plt.title(\"Comparaison l'erreur du traitement de différents algorithmes d'optimisation\")\n",
        "plt.legend(['sgd', 'adagard', 'adadelta', 'adamax', 'adam', 'nadam', 'rmsprop'])\n",
        "plt.xlabel('Epoch')\n",
        "plt.ylabel('Loss')\n",
        "plt.show();\n",
        "  \n",
        "  \n",
        "  \n",
        "plt.plot(epoch_count, val_loss_sgd, 'b-')\n",
        "plt.plot(epoch_count, val_loss_adagard, 'g-')\n",
        "plt.plot(epoch_count, val_loss_adadelta, 'r-')\n",
        "plt.plot(epoch_count, val_loss_adamax, 'c-')\n",
        "plt.plot(epoch_count, val_loss_adam, 'm-')\n",
        "plt.plot(epoch_count, val_loss_nadam, 'y-')\n",
        "plt.plot(epoch_count, val_loss_rmsprop, 'k-')\n",
        "  \n",
        "  \n",
        "plt.title(\"Comparaison de l'erreur du test de différents algorithmes d'optimisation\")\n",
        "plt.legend(['sgd', 'adagard', 'adadelta', 'adamax', 'adam', 'nadam', 'rmsprop'])\n",
        "plt.xlabel('Epoch')\n",
        "plt.ylabel('Loss')\n",
        "plt.show();\n"
      ],
      "execution_count": 0,
      "outputs": [
        {
          "output_type": "display_data",
          "data": {
            "image/png": "[encoded data removed]",
            "text/plain": [
              "<Figure size 432x288 with 1 Axes>"
            ]
          },
          "metadata": {
            "tags": []
          }
        },
        {
          "output_type": "display_data",
          "data": {
            "image/png": "[encoded data removed]",
            "text/plain": [
              "<Figure size 432x288 with 1 Axes>"
            ]
          },
          "metadata": {
            "tags": []
          }
        }
      ]
    },
    {
      "cell_type": "code",
      "metadata": {
        "id": "MRbWhQTsHqtT",
        "colab_type": "code",
        "colab": {}
      },
      "source": [
        "plt.plot(epoch_count, acc_sgd, 'b-')\n",
        "plt.plot(epoch_count, acc_adagard, 'g-')\n",
        "plt.plot(epoch_count, acc_adadelta, 'r-')\n",
        "plt.plot(epoch_count, acc_adamax, 'c-')\n",
        "plt.plot(epoch_count, acc_adam, 'm-')\n",
        "#plt.plot(epoch_count, acc_nadam, 'y-')\n",
        "#plt.plot(epoch_count, acc_rmsprop, 'k-')\n",
        "  \n",
        "  \n",
        "plt.title(\"Comparaison de la précision du traitement de différentes algorithmes d'optimisation\")\n",
        "#plt.legend(['sgd', 'adagard', 'adadelta', 'adamax', 'adam', 'nadam', 'rmsprop'])\n",
        "plt.legend(['sgd', 'adagard', 'adadelta', 'adamax', 'adam', 'nadam'])\n",
        "plt.xlabel('Epoch')\n",
        "plt.ylabel('Loss')\n",
        "plt.show();\n",
        "  \n",
        "  \n",
        "plt.plot(epoch_count, val_acc_sgd, 'b-')\n",
        "plt.plot(epoch_count, val_acc_adagard, 'g-')\n",
        "plt.plot(epoch_count, val_acc_adadelta, 'r-')\n",
        "plt.plot(epoch_count, val_acc_adamax, 'c-')\n",
        "plt.plot(epoch_count, val_acc_adam, 'm-')\n",
        "#plt.plot(epoch_count, val_acc_nadam, 'y-')\n",
        "#plt.plot(epoch_count, val_acc_rmsprop, 'k-')\n",
        "  \n",
        "  \n",
        "plt.title(\"Comparaison de la précision du test de différentes algorithmes d'optimisation\")\n",
        "#plt.legend(['sgd', 'adagard', 'adadelta', 'adamax', 'adam', 'nadam', 'rmsprop'])\n",
        "plt.legend(['sgd', 'adagard', 'adadelta', 'adamax', 'adam' , 'nadam'])\n",
        "plt.xlabel('Epoch')\n",
        "plt.ylabel('Loss')\n",
        "plt.show(); "
      ],
      "execution_count": 0,
      "outputs": []
    },
    {
      "cell_type": "code",
      "metadata": {
        "id": "l_e-N8YkHfyN",
        "colab_type": "code",
        "colab": {}
      },
      "source": [
        "loss_sgd = np.array(loss_sgd[0:176]).flatten()\n",
        "loss_adagard = np.array(loss_adagard[0:176]).flatten()\n",
        "loss_adadelta= np.array(loss_adadelta[0:176]).flatten()\n",
        "loss_adamax = np.array(loss_adamax[0:176]).flatten()\n",
        "loss_adam = np.array(loss_adam[0:176]).flatten()\n",
        "loss_nadam = np.array(loss_nadam[0:176]).flatten()\n",
        "\n",
        "val_loss_sgd = np.array(val_loss_sgd[0:176]).flatten()\n",
        "val_loss_adagard = np.array(val_loss_adagard[0:176]).flatten()\n",
        "val_loss_adadelta= np.array(val_loss_adadelta[0:176]).flatten()\n",
        "val_loss_adamax = np.array(val_loss_adamax[0:176]).flatten()\n",
        "val_loss_adam = np.array(val_loss_adam[0:176]).flatten()\n",
        "val_loss_nadam = np.array(val_loss_nadam[0:176]).flatten()\n",
        "\n",
        "\n",
        "acc_sgd = np.array(val_loss_sgd[0:176]).flatten()\n",
        "acc_adagard = np.array(acc_adagard[0:176]).flatten()\n",
        "acc_adadelta= np.array(acc_adadelta[0:176]).flatten()\n",
        "acc_adamax = np.array(acc_adamax[0:176]).flatten()\n",
        "acc_adam = np.array(acc_adam[0:176]).flatten()\n",
        "acc_nadam = np.array(acc_nadam[0:176]).flatten()\n",
        "\n",
        "val_acc_sgd = np.array(val_acc_sgd[0:176]).flatten()\n",
        "val_acc_adagard = np.array(val_acc_adagard[0:176]).flatten()\n",
        "val_acc_adadelta= np.array(val_acc_adadelta[0:176]).flatten()\n",
        "val_acc_adamax = np.array(val_acc_adamax[0:176]).flatten()\n",
        "val_acc_adam = np.array(val_acc_adam[0:176]).flatten()\n",
        "val_acc_nadam = np.array(val_acc_nadam[0:176]).flatten()"
      ],
      "execution_count": 0,
      "outputs": []
    },
    {
      "cell_type": "markdown",
      "metadata": {
        "id": "8_0W5bjsB3ts",
        "colab_type": "text"
      },
      "source": [
        "# Other things"
      ]
    },
    {
      "cell_type": "code",
      "metadata": {
        "id": "R4ugQcvtkrsn",
        "colab_type": "code",
        "colab": {}
      },
      "source": [
        "#Normalization \n",
        "from sklearn import preprocessing\n",
        "x_normalizer = preprocessing.Normalizer().fit(x_train)  # fit does nothing\n",
        "x_normalizer\n",
        "x_train = x_normalizer.transform(x_train)"
      ],
      "execution_count": 0,
      "outputs": []
    },
    {
      "cell_type": "code",
      "metadata": {
        "id": "FWH9jzqSpycT",
        "colab_type": "code",
        "colab": {}
      },
      "source": [
        "from matplotlib import pyplot as plt\n",
        "y.hist(bins=20, grid=False, xlabelsize=12, ylabelsize=12)\n",
        "#plt.title('Distribution des données dans les 64 classes', fontsize=16)\n",
        "#plt.xlabel(\"Classes\", fontsize=15)\n",
        "#plt.ylabel(\"Nombre de données\",fontsize=15)\n",
        "#plt.xlim([-5,20])"
      ],
      "execution_count": 0,
      "outputs": []
    },
    {
      "cell_type": "code",
      "metadata": {
        "id": "vP1eFZLGhMuv",
        "colab_type": "code",
        "colab": {}
      },
      "source": [
        "def data_augmentation_2(df,new_span):\n",
        "  prev_span = df.loc[:,16] \n",
        "  df.loc[:,6] *= new_span \n",
        "  df.loc[:,6] /= prev_span\n",
        "  \n",
        "  df.loc[:,8] *= new_span\n",
        "  df.loc[:,8] /= prev_span\n",
        "  df.loc[:,10] *= new_span \n",
        "  df.loc[:,10] /= prev_span\n",
        "  df.loc[:,12] *= new_span \n",
        "  df.loc[:,12] /= prev_span \n",
        "  df.loc[:,16] *= new_span\n",
        "  df.loc[:,16] /= prev_span "
      ],
      "execution_count": 0,
      "outputs": []
    },
    {
      "cell_type": "code",
      "metadata": {
        "id": "GutMukNkptIB",
        "colab_type": "code",
        "colab": {}
      },
      "source": [
        "from google.colab import files\n",
        "src = list(files.upload().values())[0]\n",
        "open('mylib.py','wb').write(src)\n",
        "import mylib"
      ],
      "execution_count": 0,
      "outputs": []
    },
    {
      "cell_type": "code",
      "metadata": {
        "id": "AwibRdZTkzbs",
        "colab_type": "code",
        "colab": {}
      },
      "source": [
        "#MinMaxScaler\n",
        "from sklearn.preprocessing import MinMaxScaler\n",
        "# All data needs to be scaled to a small range like 0 to 1 for the neural network to work well. \n",
        "# Create scalers for the inputs \n",
        "X_scaler = MinMaxScaler(feature_range=(0, 1))\n",
        "\n",
        "# Scale the training inputs \n",
        "x_treain = X_scaler.fit_transform(x_train)\n",
        "print(x_train.shape)"
      ],
      "execution_count": 0,
      "outputs": []
    },
    {
      "cell_type": "markdown",
      "metadata": {
        "id": "5qOC4hTyeSP_",
        "colab_type": "text"
      },
      "source": [
        "# Feature Selctor"
      ]
    },
    {
      "cell_type": "code",
      "metadata": {
        "id": "T5UkPRx6bPxV",
        "colab_type": "code",
        "colab": {}
      },
      "source": [
        "from feature_selector import FeatureSelector\n",
        "# Features are in train and labels are in train_labels\n",
        "fs = FeatureSelector(data = x_train1, labels = y_train1)"
      ],
      "execution_count": 0,
      "outputs": []
    },
    {
      "cell_type": "code",
      "metadata": {
        "id": "ADz7_Xu1t8KC",
        "colab_type": "code",
        "colab": {}
      },
      "source": [
        "x_train"
      ],
      "execution_count": 0,
      "outputs": []
    },
    {
      "cell_type": "code",
      "metadata": {
        "id": "ZNyLBKWHrcAj",
        "colab_type": "code",
        "outputId": "08e5eeb3-eae0-482f-f59f-d9c0a1914642",
        "colab": {
          "base_uri": "https://localhost:8080/",
          "height": 51
        }
      },
      "source": [
        "fs.identify_missing(missing_threshold = 0.6)"
      ],
      "execution_count": 0,
      "outputs": [
        {
          "output_type": "stream",
          "text": [
            "2 features with greater than 0.60 missing values.\n",
            "\n"
          ],
          "name": "stdout"
        }
      ]
    },
    {
      "cell_type": "code",
      "metadata": {
        "id": "SJCBBw9Orlgg",
        "colab_type": "code",
        "outputId": "ca44c617-1c4c-4122-e832-c84ff06d42d2",
        "colab": {
          "base_uri": "https://localhost:8080/",
          "height": 204
        }
      },
      "source": [
        "fs.missing_stats.head()"
      ],
      "execution_count": 0,
      "outputs": [
        {
          "output_type": "execute_result",
          "data": {
            "text/html": [
              "<div>\n",
              "<style scoped>\n",
              "    .dataframe tbody tr th:only-of-type {\n",
              "        vertical-align: middle;\n",
              "    }\n",
              "\n",
              "    .dataframe tbody tr th {\n",
              "        vertical-align: top;\n",
              "    }\n",
              "\n",
              "    .dataframe thead th {\n",
              "        text-align: right;\n",
              "    }\n",
              "</style>\n",
              "<table border=\"1\" class=\"dataframe\">\n",
              "  <thead>\n",
              "    <tr style=\"text-align: right;\">\n",
              "      <th></th>\n",
              "      <th>missing_fraction</th>\n",
              "    </tr>\n",
              "  </thead>\n",
              "  <tbody>\n",
              "    <tr>\n",
              "      <th>22</th>\n",
              "      <td>0.811669</td>\n",
              "    </tr>\n",
              "    <tr>\n",
              "      <th>15</th>\n",
              "      <td>0.671934</td>\n",
              "    </tr>\n",
              "    <tr>\n",
              "      <th>21</th>\n",
              "      <td>0.495571</td>\n",
              "    </tr>\n",
              "    <tr>\n",
              "      <th>20</th>\n",
              "      <td>0.365027</td>\n",
              "    </tr>\n",
              "    <tr>\n",
              "      <th>14</th>\n",
              "      <td>0.347449</td>\n",
              "    </tr>\n",
              "  </tbody>\n",
              "</table>\n",
              "</div>"
            ],
            "text/plain": [
              "    missing_fraction\n",
              "22          0.811669\n",
              "15          0.671934\n",
              "21          0.495571\n",
              "20          0.365027\n",
              "14          0.347449"
            ]
          },
          "metadata": {
            "tags": []
          },
          "execution_count": 9
        }
      ]
    },
    {
      "cell_type": "code",
      "metadata": {
        "id": "NE9YWmNEr-Rg",
        "colab_type": "code",
        "outputId": "7c513bed-8d2a-4a5e-aceb-5c466c3c9cc9",
        "colab": {
          "base_uri": "https://localhost:8080/",
          "height": 34
        }
      },
      "source": [
        "missing_features = fs.ops['missing']\n",
        "missing_features[:22]"
      ],
      "execution_count": 0,
      "outputs": [
        {
          "output_type": "execute_result",
          "data": {
            "text/plain": [
              "[15, 22]"
            ]
          },
          "metadata": {
            "tags": []
          },
          "execution_count": 10
        }
      ]
    },
    {
      "cell_type": "code",
      "metadata": {
        "id": "DkY7BweOsHb7",
        "colab_type": "code",
        "outputId": "a191546f-5e94-40bf-ecdc-d464d36fe72e",
        "colab": {
          "base_uri": "https://localhost:8080/",
          "height": 480
        }
      },
      "source": [
        "fs.plot_missing()"
      ],
      "execution_count": 0,
      "outputs": [
        {
          "output_type": "display_data",
          "data": {
            "image/png": "[encoded data removed]",
            "text/plain": [
              "<Figure size 700x500 with 1 Axes>"
            ]
          },
          "metadata": {
            "tags": []
          }
        }
      ]
    },
    {
      "cell_type": "code",
      "metadata": {
        "id": "b6XGBQnvsQB9",
        "colab_type": "code",
        "outputId": "59d8021f-777f-4e8e-ada3-24ae3a2a6ca6",
        "colab": {
          "base_uri": "https://localhost:8080/",
          "height": 359
        }
      },
      "source": [
        "fs.missing_stats.head(10)"
      ],
      "execution_count": 0,
      "outputs": [
        {
          "output_type": "execute_result",
          "data": {
            "text/html": [
              "<div>\n",
              "<style scoped>\n",
              "    .dataframe tbody tr th:only-of-type {\n",
              "        vertical-align: middle;\n",
              "    }\n",
              "\n",
              "    .dataframe tbody tr th {\n",
              "        vertical-align: top;\n",
              "    }\n",
              "\n",
              "    .dataframe thead th {\n",
              "        text-align: right;\n",
              "    }\n",
              "</style>\n",
              "<table border=\"1\" class=\"dataframe\">\n",
              "  <thead>\n",
              "    <tr style=\"text-align: right;\">\n",
              "      <th></th>\n",
              "      <th>missing_fraction</th>\n",
              "    </tr>\n",
              "  </thead>\n",
              "  <tbody>\n",
              "    <tr>\n",
              "      <th>22</th>\n",
              "      <td>0.812695</td>\n",
              "    </tr>\n",
              "    <tr>\n",
              "      <th>15</th>\n",
              "      <td>0.673892</td>\n",
              "    </tr>\n",
              "    <tr>\n",
              "      <th>21</th>\n",
              "      <td>0.492684</td>\n",
              "    </tr>\n",
              "    <tr>\n",
              "      <th>20</th>\n",
              "      <td>0.368649</td>\n",
              "    </tr>\n",
              "    <tr>\n",
              "      <th>14</th>\n",
              "      <td>0.351646</td>\n",
              "    </tr>\n",
              "    <tr>\n",
              "      <th>19</th>\n",
              "      <td>0.044235</td>\n",
              "    </tr>\n",
              "    <tr>\n",
              "      <th>18</th>\n",
              "      <td>0.035835</td>\n",
              "    </tr>\n",
              "    <tr>\n",
              "      <th>12</th>\n",
              "      <td>0.000000</td>\n",
              "    </tr>\n",
              "    <tr>\n",
              "      <th>17</th>\n",
              "      <td>0.000000</td>\n",
              "    </tr>\n",
              "    <tr>\n",
              "      <th>16</th>\n",
              "      <td>0.000000</td>\n",
              "    </tr>\n",
              "  </tbody>\n",
              "</table>\n",
              "</div>"
            ],
            "text/plain": [
              "    missing_fraction\n",
              "22          0.812695\n",
              "15          0.673892\n",
              "21          0.492684\n",
              "20          0.368649\n",
              "14          0.351646\n",
              "19          0.044235\n",
              "18          0.035835\n",
              "12          0.000000\n",
              "17          0.000000\n",
              "16          0.000000"
            ]
          },
          "metadata": {
            "tags": []
          },
          "execution_count": 7
        }
      ]
    },
    {
      "cell_type": "code",
      "metadata": {
        "id": "3MUnzi0IscCu",
        "colab_type": "code",
        "outputId": "1cb318cf-b930-4dc7-d6aa-a73e3549d27d",
        "colab": {
          "base_uri": "https://localhost:8080/",
          "height": 51
        }
      },
      "source": [
        "fs.identify_single_unique()"
      ],
      "execution_count": 0,
      "outputs": [
        {
          "output_type": "stream",
          "text": [
            "1 features with a single unique value.\n",
            "\n"
          ],
          "name": "stdout"
        }
      ]
    },
    {
      "cell_type": "code",
      "metadata": {
        "id": "O7zJHo7IskeB",
        "colab_type": "code",
        "outputId": "4a8dd79f-cc48-4bb8-de7f-32fd2fb22fd4",
        "colab": {
          "base_uri": "https://localhost:8080/",
          "height": 34
        }
      },
      "source": [
        "single_unique = fs.ops['single_unique']\n",
        "single_unique"
      ],
      "execution_count": 0,
      "outputs": [
        {
          "output_type": "execute_result",
          "data": {
            "text/plain": [
              "[3]"
            ]
          },
          "metadata": {
            "tags": []
          },
          "execution_count": 9
        }
      ]
    },
    {
      "cell_type": "code",
      "metadata": {
        "id": "PLfZ0zarsqsS",
        "colab_type": "code",
        "outputId": "c39caec6-3043-4a1b-f7d6-6aca8d13835f",
        "colab": {
          "base_uri": "https://localhost:8080/",
          "height": 487
        }
      },
      "source": [
        "fs.plot_unique()"
      ],
      "execution_count": 0,
      "outputs": [
        {
          "output_type": "display_data",
          "data": {
            "image/png": "[encoded data removed]",
            "text/plain": [
              "<Figure size 700x500 with 1 Axes>"
            ]
          },
          "metadata": {
            "tags": []
          }
        }
      ]
    },
    {
      "cell_type": "code",
      "metadata": {
        "id": "OL714Yj0s23p",
        "colab_type": "code",
        "outputId": "ffcc56cf-2e92-444c-fb1d-77e1d2d4ba8b",
        "colab": {
          "base_uri": "https://localhost:8080/",
          "height": 731
        }
      },
      "source": [
        "fs.unique_stats.sample(22)"
      ],
      "execution_count": 0,
      "outputs": [
        {
          "output_type": "execute_result",
          "data": {
            "text/html": [
              "<div>\n",
              "<style scoped>\n",
              "    .dataframe tbody tr th:only-of-type {\n",
              "        vertical-align: middle;\n",
              "    }\n",
              "\n",
              "    .dataframe tbody tr th {\n",
              "        vertical-align: top;\n",
              "    }\n",
              "\n",
              "    .dataframe thead th {\n",
              "        text-align: right;\n",
              "    }\n",
              "</style>\n",
              "<table border=\"1\" class=\"dataframe\">\n",
              "  <thead>\n",
              "    <tr style=\"text-align: right;\">\n",
              "      <th></th>\n",
              "      <th>nunique</th>\n",
              "    </tr>\n",
              "  </thead>\n",
              "  <tbody>\n",
              "    <tr>\n",
              "      <th>2</th>\n",
              "      <td>25</td>\n",
              "    </tr>\n",
              "    <tr>\n",
              "      <th>13</th>\n",
              "      <td>703</td>\n",
              "    </tr>\n",
              "    <tr>\n",
              "      <th>0</th>\n",
              "      <td>6</td>\n",
              "    </tr>\n",
              "    <tr>\n",
              "      <th>10</th>\n",
              "      <td>17</td>\n",
              "    </tr>\n",
              "    <tr>\n",
              "      <th>3</th>\n",
              "      <td>1</td>\n",
              "    </tr>\n",
              "    <tr>\n",
              "      <th>4</th>\n",
              "      <td>2</td>\n",
              "    </tr>\n",
              "    <tr>\n",
              "      <th>14</th>\n",
              "      <td>127</td>\n",
              "    </tr>\n",
              "    <tr>\n",
              "      <th>7</th>\n",
              "      <td>8</td>\n",
              "    </tr>\n",
              "    <tr>\n",
              "      <th>17</th>\n",
              "      <td>22</td>\n",
              "    </tr>\n",
              "    <tr>\n",
              "      <th>18</th>\n",
              "      <td>13</td>\n",
              "    </tr>\n",
              "    <tr>\n",
              "      <th>21</th>\n",
              "      <td>4</td>\n",
              "    </tr>\n",
              "    <tr>\n",
              "      <th>20</th>\n",
              "      <td>10</td>\n",
              "    </tr>\n",
              "    <tr>\n",
              "      <th>22</th>\n",
              "      <td>4</td>\n",
              "    </tr>\n",
              "    <tr>\n",
              "      <th>12</th>\n",
              "      <td>694</td>\n",
              "    </tr>\n",
              "    <tr>\n",
              "      <th>5</th>\n",
              "      <td>8</td>\n",
              "    </tr>\n",
              "    <tr>\n",
              "      <th>15</th>\n",
              "      <td>16</td>\n",
              "    </tr>\n",
              "    <tr>\n",
              "      <th>9</th>\n",
              "      <td>9</td>\n",
              "    </tr>\n",
              "    <tr>\n",
              "      <th>11</th>\n",
              "      <td>10</td>\n",
              "    </tr>\n",
              "    <tr>\n",
              "      <th>19</th>\n",
              "      <td>8</td>\n",
              "    </tr>\n",
              "    <tr>\n",
              "      <th>1</th>\n",
              "      <td>10</td>\n",
              "    </tr>\n",
              "    <tr>\n",
              "      <th>16</th>\n",
              "      <td>22</td>\n",
              "    </tr>\n",
              "    <tr>\n",
              "      <th>8</th>\n",
              "      <td>16</td>\n",
              "    </tr>\n",
              "  </tbody>\n",
              "</table>\n",
              "</div>"
            ],
            "text/plain": [
              "    nunique\n",
              "2        25\n",
              "13      703\n",
              "0         6\n",
              "10       17\n",
              "3         1\n",
              "4         2\n",
              "14      127\n",
              "7         8\n",
              "17       22\n",
              "18       13\n",
              "21        4\n",
              "20       10\n",
              "22        4\n",
              "12      694\n",
              "5         8\n",
              "15       16\n",
              "9         9\n",
              "11       10\n",
              "19        8\n",
              "1        10\n",
              "16       22\n",
              "8        16"
            ]
          },
          "metadata": {
            "tags": []
          },
          "execution_count": 11
        }
      ]
    },
    {
      "cell_type": "markdown",
      "metadata": {
        "id": "6vlsWcrszHQ3",
        "colab_type": "text"
      },
      "source": [
        "\n",
        "# 3. Collinear (highly correlated) Features"
      ]
    },
    {
      "cell_type": "code",
      "metadata": {
        "id": "Bq6gTpkVzISE",
        "colab_type": "code",
        "outputId": "8c23357e-ea01-4f2b-af1a-a7df25efdba5",
        "colab": {
          "base_uri": "https://localhost:8080/",
          "height": 51
        }
      },
      "source": [
        "fs.identify_collinear(correlation_threshold=0.975)"
      ],
      "execution_count": 0,
      "outputs": [
        {
          "output_type": "stream",
          "text": [
            "1 features with a correlation magnitude greater than 0.97.\n",
            "\n"
          ],
          "name": "stdout"
        }
      ]
    },
    {
      "cell_type": "code",
      "metadata": {
        "id": "xDcnM1KUzceu",
        "colab_type": "code",
        "outputId": "e044f76d-a891-4730-d0d2-b42ad3b206f8",
        "colab": {
          "base_uri": "https://localhost:8080/",
          "height": 34
        }
      },
      "source": [
        "correlated_features = fs.ops['collinear']\n",
        "correlated_features[:5]"
      ],
      "execution_count": 0,
      "outputs": [
        {
          "output_type": "execute_result",
          "data": {
            "text/plain": [
              "[11]"
            ]
          },
          "metadata": {
            "tags": []
          },
          "execution_count": 13
        }
      ]
    },
    {
      "cell_type": "code",
      "metadata": {
        "id": "Ug3rzxyXzxDN",
        "colab_type": "code",
        "outputId": "a063adf6-2b5f-45c3-b8c1-3b575e1fcaa8",
        "colab": {
          "base_uri": "https://localhost:8080/",
          "height": 888
        }
      },
      "source": [
        "fs.plot_collinear()"
      ],
      "execution_count": 0,
      "outputs": [
        {
          "output_type": "display_data",
          "data": {
            "image/png": "[encoded data removed]",
            "text/plain": [
              "<Figure size 1000x800 with 2 Axes>"
            ]
          },
          "metadata": {
            "tags": []
          }
        }
      ]
    },
    {
      "cell_type": "code",
      "metadata": {
        "id": "G7YgUfsn0FGZ",
        "colab_type": "code",
        "outputId": "3d988b60-10ba-4fe2-972a-3c1bf38eb6cc",
        "colab": {
          "base_uri": "https://localhost:8080/",
          "height": 683
        }
      },
      "source": [
        "fs.plot_collinear(plot_all=True)"
      ],
      "execution_count": 0,
      "outputs": [
        {
          "output_type": "display_data",
          "data": {
            "image/png": "[encoded data removed]",
            "text/plain": [
              "<Figure size 1000x800 with 2 Axes>"
            ]
          },
          "metadata": {
            "tags": []
          }
        }
      ]
    },
    {
      "cell_type": "code",
      "metadata": {
        "id": "-vrjVrDr0Y_v",
        "colab_type": "code",
        "outputId": "f1bdb824-b6c8-4e29-9429-25216f0284ed",
        "colab": {
          "base_uri": "https://localhost:8080/",
          "height": 922
        }
      },
      "source": [
        "fs.identify_collinear(correlation_threshold=0.98)\n",
        "fs.plot_collinear()"
      ],
      "execution_count": 0,
      "outputs": [
        {
          "output_type": "stream",
          "text": [
            "1 features with a correlation magnitude greater than 0.98.\n",
            "\n"
          ],
          "name": "stdout"
        },
        {
          "output_type": "display_data",
          "data": {
            "image/png": "[encoded data removed]",
            "text/plain": [
              "<Figure size 1000x800 with 2 Axes>"
            ]
          },
          "metadata": {
            "tags": []
          }
        }
      ]
    },
    {
      "cell_type": "code",
      "metadata": {
        "id": "aPchBx9q0lVg",
        "colab_type": "code",
        "outputId": "aba6de70-b7f5-4eac-8d32-1d1e41f09c7e",
        "colab": {
          "base_uri": "https://localhost:8080/",
          "height": 80
        }
      },
      "source": [
        "fs.record_collinear.head()"
      ],
      "execution_count": 0,
      "outputs": [
        {
          "output_type": "execute_result",
          "data": {
            "text/html": [
              "<div>\n",
              "<style scoped>\n",
              "    .dataframe tbody tr th:only-of-type {\n",
              "        vertical-align: middle;\n",
              "    }\n",
              "\n",
              "    .dataframe tbody tr th {\n",
              "        vertical-align: top;\n",
              "    }\n",
              "\n",
              "    .dataframe thead th {\n",
              "        text-align: right;\n",
              "    }\n",
              "</style>\n",
              "<table border=\"1\" class=\"dataframe\">\n",
              "  <thead>\n",
              "    <tr style=\"text-align: right;\">\n",
              "      <th></th>\n",
              "      <th>drop_feature</th>\n",
              "      <th>corr_feature</th>\n",
              "      <th>corr_value</th>\n",
              "    </tr>\n",
              "  </thead>\n",
              "  <tbody>\n",
              "    <tr>\n",
              "      <th>0</th>\n",
              "      <td>11</td>\n",
              "      <td>1</td>\n",
              "      <td>1.0</td>\n",
              "    </tr>\n",
              "  </tbody>\n",
              "</table>\n",
              "</div>"
            ],
            "text/plain": [
              "  drop_feature corr_feature  corr_value\n",
              "0           11            1         1.0"
            ]
          },
          "metadata": {
            "tags": []
          },
          "execution_count": 17
        }
      ]
    },
    {
      "cell_type": "markdown",
      "metadata": {
        "id": "L4sF0_GM0snW",
        "colab_type": "text"
      },
      "source": [
        "# 4. Zero Importance Features"
      ]
    },
    {
      "cell_type": "code",
      "metadata": {
        "id": "t1gs9Xbf0t8M",
        "colab_type": "code",
        "outputId": "f866fbf1-5cbd-4b97-b467-172ed73675e6",
        "colab": {
          "base_uri": "https://localhost:8080/",
          "height": 1207
        }
      },
      "source": [
        "fs.identify_zero_importance(task = 'classification', eval_metric = 'multi_logloss', n_iterations = 10, early_stopping = True)"
      ],
      "execution_count": 0,
      "outputs": [
        {
          "output_type": "stream",
          "text": [
            "Training Gradient Boosting Model\n",
            "\n",
            "Training until validation scores don't improve for 100 rounds.\n",
            "Early stopping, best iteration is:\n",
            "[94]\tvalid_0's multi_logloss: 1.8649\tvalid_0's multi_logloss: 1.8649\n",
            "Training until validation scores don't improve for 100 rounds.\n",
            "Early stopping, best iteration is:\n",
            "[111]\tvalid_0's multi_logloss: 1.85763\tvalid_0's multi_logloss: 1.85763\n",
            "Training until validation scores don't improve for 100 rounds.\n",
            "Early stopping, best iteration is:\n",
            "[109]\tvalid_0's multi_logloss: 1.86262\tvalid_0's multi_logloss: 1.86262\n",
            "Training until validation scores don't improve for 100 rounds.\n",
            "Early stopping, best iteration is:\n",
            "[90]\tvalid_0's multi_logloss: 1.86643\tvalid_0's multi_logloss: 1.86643\n",
            "Training until validation scores don't improve for 100 rounds.\n",
            "Early stopping, best iteration is:\n",
            "[107]\tvalid_0's multi_logloss: 1.86736\tvalid_0's multi_logloss: 1.86736\n",
            "Training until validation scores don't improve for 100 rounds.\n",
            "Early stopping, best iteration is:\n",
            "[113]\tvalid_0's multi_logloss: 1.86806\tvalid_0's multi_logloss: 1.86806\n",
            "Training until validation scores don't improve for 100 rounds.\n",
            "Early stopping, best iteration is:\n",
            "[100]\tvalid_0's multi_logloss: 1.86649\tvalid_0's multi_logloss: 1.86649\n",
            "Training until validation scores don't improve for 100 rounds.\n",
            "Early stopping, best iteration is:\n",
            "[98]\tvalid_0's multi_logloss: 1.85982\tvalid_0's multi_logloss: 1.85982\n",
            "Training until validation scores don't improve for 100 rounds.\n",
            "Early stopping, best iteration is:\n",
            "[88]\tvalid_0's multi_logloss: 1.86618\tvalid_0's multi_logloss: 1.86618\n",
            "Training until validation scores don't improve for 100 rounds.\n",
            "Early stopping, best iteration is:\n",
            "[81]\tvalid_0's multi_logloss: 1.87025\tvalid_0's multi_logloss: 1.87025\n",
            "\n",
            "2 features with zero importance after one-hot encoding.\n",
            "\n",
            "Training Gradient Boosting Model\n",
            "\n",
            "Training until validation scores don't improve for 100 rounds.\n",
            "Early stopping, best iteration is:\n",
            "[93]\tvalid_0's multi_logloss: 1.85974\tvalid_0's multi_logloss: 1.85974\n",
            "Training until validation scores don't improve for 100 rounds.\n",
            "Early stopping, best iteration is:\n",
            "[96]\tvalid_0's multi_logloss: 1.86416\tvalid_0's multi_logloss: 1.86416\n",
            "Training until validation scores don't improve for 100 rounds.\n",
            "Early stopping, best iteration is:\n",
            "[93]\tvalid_0's multi_logloss: 1.86901\tvalid_0's multi_logloss: 1.86901\n",
            "Training until validation scores don't improve for 100 rounds.\n",
            "Early stopping, best iteration is:\n",
            "[113]\tvalid_0's multi_logloss: 1.86118\tvalid_0's multi_logloss: 1.86118\n",
            "Training until validation scores don't improve for 100 rounds.\n",
            "Early stopping, best iteration is:\n",
            "[95]\tvalid_0's multi_logloss: 1.86409\tvalid_0's multi_logloss: 1.86409\n",
            "Training until validation scores don't improve for 100 rounds.\n",
            "Early stopping, best iteration is:\n",
            "[99]\tvalid_0's multi_logloss: 1.86201\tvalid_0's multi_logloss: 1.86201\n",
            "Training until validation scores don't improve for 100 rounds.\n",
            "Early stopping, best iteration is:\n",
            "[110]\tvalid_0's multi_logloss: 1.86132\tvalid_0's multi_logloss: 1.86132\n",
            "Training until validation scores don't improve for 100 rounds.\n",
            "Early stopping, best iteration is:\n",
            "[88]\tvalid_0's multi_logloss: 1.8609\tvalid_0's multi_logloss: 1.8609\n",
            "Training until validation scores don't improve for 100 rounds.\n",
            "Early stopping, best iteration is:\n",
            "[94]\tvalid_0's multi_logloss: 1.85926\tvalid_0's multi_logloss: 1.85926\n",
            "Training until validation scores don't improve for 100 rounds.\n",
            "Early stopping, best iteration is:\n",
            "[115]\tvalid_0's multi_logloss: 1.85817\tvalid_0's multi_logloss: 1.85817\n",
            "\n",
            "2 features with zero importance after one-hot encoding.\n",
            "\n"
          ],
          "name": "stdout"
        }
      ]
    },
    {
      "cell_type": "code",
      "metadata": {
        "id": "mSteJOsp2o26",
        "colab_type": "code",
        "outputId": "f2f1e1cd-30bb-4f68-f65d-e1ab277c5ead",
        "colab": {
          "base_uri": "https://localhost:8080/",
          "height": 51
        }
      },
      "source": [
        "one_hot_features = fs.one_hot_features\n",
        "base_features = fs.base_features\n",
        "print('There are %d original features' % len(base_features))\n",
        "print('There are %d one-hot features' % len(one_hot_features))"
      ],
      "execution_count": 0,
      "outputs": [
        {
          "output_type": "stream",
          "text": [
            "There are 23 original features\n",
            "There are 0 one-hot features\n"
          ],
          "name": "stdout"
        }
      ]
    },
    {
      "cell_type": "code",
      "metadata": {
        "id": "D7IY9iEp2wdO",
        "colab_type": "code",
        "colab": {}
      },
      "source": [
        "fs.data_all.head(10)"
      ],
      "execution_count": 0,
      "outputs": []
    },
    {
      "cell_type": "code",
      "metadata": {
        "id": "5BxNS9Ed23On",
        "colab_type": "code",
        "outputId": "6db49671-1636-457c-83fe-738c3e3af853",
        "colab": {
          "base_uri": "https://localhost:8080/",
          "height": 34
        }
      },
      "source": [
        "zero_importance_features = fs.ops['zero_importance']\n",
        "zero_importance_features[0:22]"
      ],
      "execution_count": 0,
      "outputs": [
        {
          "output_type": "execute_result",
          "data": {
            "text/plain": [
              "[3, 11]"
            ]
          },
          "metadata": {
            "tags": []
          },
          "execution_count": 21
        }
      ]
    },
    {
      "cell_type": "code",
      "metadata": {
        "id": "fU4FrBRf3DQF",
        "colab_type": "code",
        "outputId": "787684cf-4ffc-4367-cd28-b593514d93ce",
        "colab": {
          "base_uri": "https://localhost:8080/",
          "height": 977
        }
      },
      "source": [
        "fs.plot_feature_importances(threshold = 0.99, plot_n = 22)"
      ],
      "execution_count": 0,
      "outputs": [
        {
          "output_type": "display_data",
          "data": {
            "image/png": "[encoded data removed]",
            "text/plain": [
              "<Figure size 1000x600 with 1 Axes>"
            ]
          },
          "metadata": {
            "tags": []
          }
        },
        {
          "output_type": "display_data",
          "data": {
            "image/png": "[encoded data removed]",
            "text/plain": [
              "<Figure size 600x400 with 1 Axes>"
            ]
          },
          "metadata": {
            "tags": []
          }
        },
        {
          "output_type": "stream",
          "text": [
            "20 features required for 0.99 of cumulative importance\n"
          ],
          "name": "stdout"
        }
      ]
    },
    {
      "cell_type": "code",
      "metadata": {
        "id": "gmeSBmFa3xzL",
        "colab_type": "code",
        "outputId": "e594b35b-a11a-4109-cf84-6e6a8426cdc2",
        "colab": {
          "base_uri": "https://localhost:8080/",
          "height": 731
        }
      },
      "source": [
        "fs.feature_importances.head(22)"
      ],
      "execution_count": 0,
      "outputs": [
        {
          "output_type": "execute_result",
          "data": {
            "text/html": [
              "<div>\n",
              "<style scoped>\n",
              "    .dataframe tbody tr th:only-of-type {\n",
              "        vertical-align: middle;\n",
              "    }\n",
              "\n",
              "    .dataframe tbody tr th {\n",
              "        vertical-align: top;\n",
              "    }\n",
              "\n",
              "    .dataframe thead th {\n",
              "        text-align: right;\n",
              "    }\n",
              "</style>\n",
              "<table border=\"1\" class=\"dataframe\">\n",
              "  <thead>\n",
              "    <tr style=\"text-align: right;\">\n",
              "      <th></th>\n",
              "      <th>feature</th>\n",
              "      <th>importance</th>\n",
              "      <th>normalized_importance</th>\n",
              "      <th>cumulative_importance</th>\n",
              "    </tr>\n",
              "  </thead>\n",
              "  <tbody>\n",
              "    <tr>\n",
              "      <th>0</th>\n",
              "      <td>12</td>\n",
              "      <td>2729.6</td>\n",
              "      <td>0.130503</td>\n",
              "      <td>0.130503</td>\n",
              "    </tr>\n",
              "    <tr>\n",
              "      <th>1</th>\n",
              "      <td>13</td>\n",
              "      <td>2433.5</td>\n",
              "      <td>0.116346</td>\n",
              "      <td>0.246849</td>\n",
              "    </tr>\n",
              "    <tr>\n",
              "      <th>2</th>\n",
              "      <td>14</td>\n",
              "      <td>2117.9</td>\n",
              "      <td>0.101257</td>\n",
              "      <td>0.348107</td>\n",
              "    </tr>\n",
              "    <tr>\n",
              "      <th>3</th>\n",
              "      <td>16</td>\n",
              "      <td>1404.7</td>\n",
              "      <td>0.067159</td>\n",
              "      <td>0.415266</td>\n",
              "    </tr>\n",
              "    <tr>\n",
              "      <th>4</th>\n",
              "      <td>2</td>\n",
              "      <td>1107.8</td>\n",
              "      <td>0.052964</td>\n",
              "      <td>0.468230</td>\n",
              "    </tr>\n",
              "    <tr>\n",
              "      <th>5</th>\n",
              "      <td>19</td>\n",
              "      <td>1073.4</td>\n",
              "      <td>0.051320</td>\n",
              "      <td>0.519550</td>\n",
              "    </tr>\n",
              "    <tr>\n",
              "      <th>6</th>\n",
              "      <td>15</td>\n",
              "      <td>1051.4</td>\n",
              "      <td>0.050268</td>\n",
              "      <td>0.569817</td>\n",
              "    </tr>\n",
              "    <tr>\n",
              "      <th>7</th>\n",
              "      <td>18</td>\n",
              "      <td>945.2</td>\n",
              "      <td>0.045190</td>\n",
              "      <td>0.615008</td>\n",
              "    </tr>\n",
              "    <tr>\n",
              "      <th>8</th>\n",
              "      <td>17</td>\n",
              "      <td>905.6</td>\n",
              "      <td>0.043297</td>\n",
              "      <td>0.658305</td>\n",
              "    </tr>\n",
              "    <tr>\n",
              "      <th>9</th>\n",
              "      <td>20</td>\n",
              "      <td>838.7</td>\n",
              "      <td>0.040098</td>\n",
              "      <td>0.698403</td>\n",
              "    </tr>\n",
              "    <tr>\n",
              "      <th>10</th>\n",
              "      <td>21</td>\n",
              "      <td>817.0</td>\n",
              "      <td>0.039061</td>\n",
              "      <td>0.737464</td>\n",
              "    </tr>\n",
              "    <tr>\n",
              "      <th>11</th>\n",
              "      <td>1</td>\n",
              "      <td>719.4</td>\n",
              "      <td>0.034395</td>\n",
              "      <td>0.771859</td>\n",
              "    </tr>\n",
              "    <tr>\n",
              "      <th>12</th>\n",
              "      <td>6</td>\n",
              "      <td>658.0</td>\n",
              "      <td>0.031459</td>\n",
              "      <td>0.803318</td>\n",
              "    </tr>\n",
              "    <tr>\n",
              "      <th>13</th>\n",
              "      <td>10</td>\n",
              "      <td>644.7</td>\n",
              "      <td>0.030823</td>\n",
              "      <td>0.834141</td>\n",
              "    </tr>\n",
              "    <tr>\n",
              "      <th>14</th>\n",
              "      <td>8</td>\n",
              "      <td>642.8</td>\n",
              "      <td>0.030732</td>\n",
              "      <td>0.864874</td>\n",
              "    </tr>\n",
              "    <tr>\n",
              "      <th>15</th>\n",
              "      <td>4</td>\n",
              "      <td>590.9</td>\n",
              "      <td>0.028251</td>\n",
              "      <td>0.893125</td>\n",
              "    </tr>\n",
              "    <tr>\n",
              "      <th>16</th>\n",
              "      <td>5</td>\n",
              "      <td>536.2</td>\n",
              "      <td>0.025636</td>\n",
              "      <td>0.918761</td>\n",
              "    </tr>\n",
              "    <tr>\n",
              "      <th>17</th>\n",
              "      <td>22</td>\n",
              "      <td>536.0</td>\n",
              "      <td>0.025626</td>\n",
              "      <td>0.944387</td>\n",
              "    </tr>\n",
              "    <tr>\n",
              "      <th>18</th>\n",
              "      <td>9</td>\n",
              "      <td>531.7</td>\n",
              "      <td>0.025421</td>\n",
              "      <td>0.969808</td>\n",
              "    </tr>\n",
              "    <tr>\n",
              "      <th>19</th>\n",
              "      <td>7</td>\n",
              "      <td>484.8</td>\n",
              "      <td>0.023178</td>\n",
              "      <td>0.992986</td>\n",
              "    </tr>\n",
              "    <tr>\n",
              "      <th>20</th>\n",
              "      <td>0</td>\n",
              "      <td>146.7</td>\n",
              "      <td>0.007014</td>\n",
              "      <td>1.000000</td>\n",
              "    </tr>\n",
              "    <tr>\n",
              "      <th>21</th>\n",
              "      <td>3</td>\n",
              "      <td>0.0</td>\n",
              "      <td>0.000000</td>\n",
              "      <td>1.000000</td>\n",
              "    </tr>\n",
              "  </tbody>\n",
              "</table>\n",
              "</div>"
            ],
            "text/plain": [
              "    feature  importance  normalized_importance  cumulative_importance\n",
              "0        12      2729.6               0.130503               0.130503\n",
              "1        13      2433.5               0.116346               0.246849\n",
              "2        14      2117.9               0.101257               0.348107\n",
              "3        16      1404.7               0.067159               0.415266\n",
              "4         2      1107.8               0.052964               0.468230\n",
              "5        19      1073.4               0.051320               0.519550\n",
              "6        15      1051.4               0.050268               0.569817\n",
              "7        18       945.2               0.045190               0.615008\n",
              "8        17       905.6               0.043297               0.658305\n",
              "9        20       838.7               0.040098               0.698403\n",
              "10       21       817.0               0.039061               0.737464\n",
              "11        1       719.4               0.034395               0.771859\n",
              "12        6       658.0               0.031459               0.803318\n",
              "13       10       644.7               0.030823               0.834141\n",
              "14        8       642.8               0.030732               0.864874\n",
              "15        4       590.9               0.028251               0.893125\n",
              "16        5       536.2               0.025636               0.918761\n",
              "17       22       536.0               0.025626               0.944387\n",
              "18        9       531.7               0.025421               0.969808\n",
              "19        7       484.8               0.023178               0.992986\n",
              "20        0       146.7               0.007014               1.000000\n",
              "21        3         0.0               0.000000               1.000000"
            ]
          },
          "metadata": {
            "tags": []
          },
          "execution_count": 16
        }
      ]
    },
    {
      "cell_type": "code",
      "metadata": {
        "id": "Q7xrqP2v4Em6",
        "colab_type": "code",
        "outputId": "2cee6d11-e56d-43e1-d984-b27dc68988ba",
        "colab": {
          "base_uri": "https://localhost:8080/",
          "height": 34
        }
      },
      "source": [
        "one_hundred_features = list(fs.feature_importances.loc[:22, 'feature'])\n",
        "len(one_hundred_features)"
      ],
      "execution_count": 0,
      "outputs": [
        {
          "output_type": "execute_result",
          "data": {
            "text/plain": [
              "23"
            ]
          },
          "metadata": {
            "tags": []
          },
          "execution_count": 24
        }
      ]
    },
    {
      "cell_type": "markdown",
      "metadata": {
        "id": "jU5ucK614QDi",
        "colab_type": "text"
      },
      "source": [
        "\n",
        "# 5. Low Importance Features"
      ]
    },
    {
      "cell_type": "code",
      "metadata": {
        "id": "Za7q2mxn4Rrt",
        "colab_type": "code",
        "outputId": "8b254c2a-1c1c-45d3-8001-28d904d717ce",
        "colab": {
          "base_uri": "https://localhost:8080/",
          "height": 68
        }
      },
      "source": [
        "fs.identify_low_importance(cumulative_importance = 0.99)"
      ],
      "execution_count": 0,
      "outputs": [
        {
          "output_type": "stream",
          "text": [
            "19 features required for cumulative importance of 0.99 after one hot encoding.\n",
            "4 features do not contribute to cumulative importance of 0.99.\n",
            "\n"
          ],
          "name": "stdout"
        }
      ]
    },
    {
      "cell_type": "code",
      "metadata": {
        "id": "hLTEI2z64cBW",
        "colab_type": "code",
        "outputId": "6ec395f1-61d6-485e-ca8f-25ffdb4823b5",
        "colab": {
          "base_uri": "https://localhost:8080/",
          "height": 34
        }
      },
      "source": [
        "low_importance_features = fs.ops['low_importance']\n",
        "low_importance_features[:5]"
      ],
      "execution_count": 0,
      "outputs": [
        {
          "output_type": "execute_result",
          "data": {
            "text/plain": [
              "[4, 0, 3, 11]"
            ]
          },
          "metadata": {
            "tags": []
          },
          "execution_count": 26
        }
      ]
    },
    {
      "cell_type": "markdown",
      "metadata": {
        "id": "S9tzMVFa41tc",
        "colab_type": "text"
      },
      "source": [
        "\n",
        "# Removing Features"
      ]
    },
    {
      "cell_type": "code",
      "metadata": {
        "id": "Xp5vot6p43YP",
        "colab_type": "code",
        "outputId": "e6e70dbb-ff82-41d8-9408-cf8fc4bcfadb",
        "colab": {
          "base_uri": "https://localhost:8080/",
          "height": 34
        }
      },
      "source": [
        "train_no_missing = fs.remove(methods = ['missing'])"
      ],
      "execution_count": 0,
      "outputs": [
        {
          "output_type": "stream",
          "text": [
            "Removed 2 features.\n"
          ],
          "name": "stdout"
        }
      ]
    },
    {
      "cell_type": "code",
      "metadata": {
        "id": "bllfFlOs4_8g",
        "colab_type": "code",
        "outputId": "e730aaab-843c-4e55-c5b3-38467d216651",
        "colab": {
          "base_uri": "https://localhost:8080/",
          "height": 34
        }
      },
      "source": [
        "train_no_missing_zero = fs.remove(methods = ['missing', 'zero_importance'])"
      ],
      "execution_count": 0,
      "outputs": [
        {
          "output_type": "stream",
          "text": [
            "Removed 4 features.\n"
          ],
          "name": "stdout"
        }
      ]
    },
    {
      "cell_type": "code",
      "metadata": {
        "id": "7f7O1lhA5GGJ",
        "colab_type": "code",
        "outputId": "dc7da17c-5b81-4ef0-e141-5655437d841d",
        "colab": {
          "base_uri": "https://localhost:8080/",
          "height": 51
        }
      },
      "source": [
        "all_to_remove = fs.check_removal()\n",
        "all_to_remove[0:22]"
      ],
      "execution_count": 0,
      "outputs": [
        {
          "output_type": "stream",
          "text": [
            "Total of 6 features identified for removal\n"
          ],
          "name": "stdout"
        },
        {
          "output_type": "execute_result",
          "data": {
            "text/plain": [
              "[0, 3, 4, 11, 15, 22]"
            ]
          },
          "metadata": {
            "tags": []
          },
          "execution_count": 29
        }
      ]
    },
    {
      "cell_type": "code",
      "metadata": {
        "id": "DhN_gmfx5LwW",
        "colab_type": "code",
        "outputId": "3b9cbba9-ff1c-4d13-81ad-e7210839f32c",
        "colab": {
          "base_uri": "https://localhost:8080/",
          "height": 1969
        }
      },
      "source": [
        "x_train"
      ],
      "execution_count": 0,
      "outputs": [
        {
          "output_type": "execute_result",
          "data": {
            "text/html": [
              "<div>\n",
              "<style scoped>\n",
              "    .dataframe tbody tr th:only-of-type {\n",
              "        vertical-align: middle;\n",
              "    }\n",
              "\n",
              "    .dataframe tbody tr th {\n",
              "        vertical-align: top;\n",
              "    }\n",
              "\n",
              "    .dataframe thead th {\n",
              "        text-align: right;\n",
              "    }\n",
              "</style>\n",
              "<table border=\"1\" class=\"dataframe\">\n",
              "  <thead>\n",
              "    <tr style=\"text-align: right;\">\n",
              "      <th></th>\n",
              "      <th>0</th>\n",
              "      <th>1</th>\n",
              "      <th>2</th>\n",
              "      <th>3</th>\n",
              "      <th>4</th>\n",
              "      <th>5</th>\n",
              "      <th>6</th>\n",
              "      <th>7</th>\n",
              "      <th>8</th>\n",
              "      <th>9</th>\n",
              "      <th>10</th>\n",
              "      <th>11</th>\n",
              "      <th>12</th>\n",
              "      <th>13</th>\n",
              "      <th>14</th>\n",
              "      <th>15</th>\n",
              "      <th>16</th>\n",
              "      <th>17</th>\n",
              "      <th>18</th>\n",
              "      <th>19</th>\n",
              "      <th>20</th>\n",
              "      <th>21</th>\n",
              "      <th>22</th>\n",
              "    </tr>\n",
              "  </thead>\n",
              "  <tbody>\n",
              "    <tr>\n",
              "      <th>0</th>\n",
              "      <td>5</td>\n",
              "      <td>12</td>\n",
              "      <td>10</td>\n",
              "      <td>0</td>\n",
              "      <td>0</td>\n",
              "      <td>3</td>\n",
              "      <td>100663296</td>\n",
              "      <td>2</td>\n",
              "      <td>67108864</td>\n",
              "      <td>1</td>\n",
              "      <td>33554432</td>\n",
              "      <td>7</td>\n",
              "      <td>658432</td>\n",
              "      <td>134144</td>\n",
              "      <td>128.0</td>\n",
              "      <td>NaN</td>\n",
              "      <td>4</td>\n",
              "      <td>16</td>\n",
              "      <td>128.0</td>\n",
              "      <td>64.0</td>\n",
              "      <td>64.0</td>\n",
              "      <td>NaN</td>\n",
              "      <td>NaN</td>\n",
              "    </tr>\n",
              "    <tr>\n",
              "      <th>1</th>\n",
              "      <td>6</td>\n",
              "      <td>12</td>\n",
              "      <td>10</td>\n",
              "      <td>0</td>\n",
              "      <td>0</td>\n",
              "      <td>3</td>\n",
              "      <td>100663296</td>\n",
              "      <td>2</td>\n",
              "      <td>67108864</td>\n",
              "      <td>1</td>\n",
              "      <td>33554432</td>\n",
              "      <td>7</td>\n",
              "      <td>658432</td>\n",
              "      <td>1664</td>\n",
              "      <td>1536.0</td>\n",
              "      <td>NaN</td>\n",
              "      <td>16</td>\n",
              "      <td>2</td>\n",
              "      <td>8.0</td>\n",
              "      <td>64.0</td>\n",
              "      <td>32.0</td>\n",
              "      <td>64.0</td>\n",
              "      <td>NaN</td>\n",
              "    </tr>\n",
              "    <tr>\n",
              "      <th>2</th>\n",
              "      <td>6</td>\n",
              "      <td>12</td>\n",
              "      <td>10</td>\n",
              "      <td>0</td>\n",
              "      <td>0</td>\n",
              "      <td>3</td>\n",
              "      <td>100663296</td>\n",
              "      <td>2</td>\n",
              "      <td>67108864</td>\n",
              "      <td>1</td>\n",
              "      <td>33554432</td>\n",
              "      <td>7</td>\n",
              "      <td>658432</td>\n",
              "      <td>529408</td>\n",
              "      <td>5120.0</td>\n",
              "      <td>NaN</td>\n",
              "      <td>2</td>\n",
              "      <td>16</td>\n",
              "      <td>32.0</td>\n",
              "      <td>32.0</td>\n",
              "      <td>32.0</td>\n",
              "      <td>32.0</td>\n",
              "      <td>NaN</td>\n",
              "    </tr>\n",
              "    <tr>\n",
              "      <th>3</th>\n",
              "      <td>5</td>\n",
              "      <td>12</td>\n",
              "      <td>10</td>\n",
              "      <td>0</td>\n",
              "      <td>0</td>\n",
              "      <td>3</td>\n",
              "      <td>100663296</td>\n",
              "      <td>2</td>\n",
              "      <td>67108864</td>\n",
              "      <td>1</td>\n",
              "      <td>33554432</td>\n",
              "      <td>7</td>\n",
              "      <td>658432</td>\n",
              "      <td>1664</td>\n",
              "      <td>1536.0</td>\n",
              "      <td>NaN</td>\n",
              "      <td>16</td>\n",
              "      <td>2</td>\n",
              "      <td>64.0</td>\n",
              "      <td>32.0</td>\n",
              "      <td>512.0</td>\n",
              "      <td>NaN</td>\n",
              "      <td>NaN</td>\n",
              "    </tr>\n",
              "    <tr>\n",
              "      <th>4</th>\n",
              "      <td>5</td>\n",
              "      <td>12</td>\n",
              "      <td>10</td>\n",
              "      <td>0</td>\n",
              "      <td>0</td>\n",
              "      <td>3</td>\n",
              "      <td>100663296</td>\n",
              "      <td>2</td>\n",
              "      <td>67108864</td>\n",
              "      <td>1</td>\n",
              "      <td>33554432</td>\n",
              "      <td>7</td>\n",
              "      <td>658432</td>\n",
              "      <td>1664</td>\n",
              "      <td>1536.0</td>\n",
              "      <td>NaN</td>\n",
              "      <td>8</td>\n",
              "      <td>1</td>\n",
              "      <td>128.0</td>\n",
              "      <td>64.0</td>\n",
              "      <td>512.0</td>\n",
              "      <td>NaN</td>\n",
              "      <td>NaN</td>\n",
              "    </tr>\n",
              "    <tr>\n",
              "      <th>5</th>\n",
              "      <td>6</td>\n",
              "      <td>12</td>\n",
              "      <td>10</td>\n",
              "      <td>0</td>\n",
              "      <td>0</td>\n",
              "      <td>3</td>\n",
              "      <td>100663296</td>\n",
              "      <td>2</td>\n",
              "      <td>67108864</td>\n",
              "      <td>1</td>\n",
              "      <td>33554432</td>\n",
              "      <td>7</td>\n",
              "      <td>658432</td>\n",
              "      <td>134144</td>\n",
              "      <td>5120.0</td>\n",
              "      <td>NaN</td>\n",
              "      <td>8</td>\n",
              "      <td>1</td>\n",
              "      <td>16.0</td>\n",
              "      <td>64.0</td>\n",
              "      <td>64.0</td>\n",
              "      <td>64.0</td>\n",
              "      <td>NaN</td>\n",
              "    </tr>\n",
              "    <tr>\n",
              "      <th>6</th>\n",
              "      <td>5</td>\n",
              "      <td>12</td>\n",
              "      <td>10</td>\n",
              "      <td>0</td>\n",
              "      <td>0</td>\n",
              "      <td>3</td>\n",
              "      <td>100663296</td>\n",
              "      <td>2</td>\n",
              "      <td>67108864</td>\n",
              "      <td>1</td>\n",
              "      <td>33554432</td>\n",
              "      <td>7</td>\n",
              "      <td>658432</td>\n",
              "      <td>134144</td>\n",
              "      <td>5120.0</td>\n",
              "      <td>NaN</td>\n",
              "      <td>8</td>\n",
              "      <td>1</td>\n",
              "      <td>64.0</td>\n",
              "      <td>64.0</td>\n",
              "      <td>1024.0</td>\n",
              "      <td>NaN</td>\n",
              "      <td>NaN</td>\n",
              "    </tr>\n",
              "    <tr>\n",
              "      <th>7</th>\n",
              "      <td>6</td>\n",
              "      <td>12</td>\n",
              "      <td>10</td>\n",
              "      <td>0</td>\n",
              "      <td>0</td>\n",
              "      <td>3</td>\n",
              "      <td>100663296</td>\n",
              "      <td>2</td>\n",
              "      <td>67108864</td>\n",
              "      <td>1</td>\n",
              "      <td>33554432</td>\n",
              "      <td>7</td>\n",
              "      <td>658432</td>\n",
              "      <td>1664</td>\n",
              "      <td>1536.0</td>\n",
              "      <td>NaN</td>\n",
              "      <td>32</td>\n",
              "      <td>1</td>\n",
              "      <td>16.0</td>\n",
              "      <td>32.0</td>\n",
              "      <td>64.0</td>\n",
              "      <td>32.0</td>\n",
              "      <td>NaN</td>\n",
              "    </tr>\n",
              "    <tr>\n",
              "      <th>8</th>\n",
              "      <td>6</td>\n",
              "      <td>12</td>\n",
              "      <td>10</td>\n",
              "      <td>0</td>\n",
              "      <td>0</td>\n",
              "      <td>3</td>\n",
              "      <td>100663296</td>\n",
              "      <td>2</td>\n",
              "      <td>67108864</td>\n",
              "      <td>1</td>\n",
              "      <td>33554432</td>\n",
              "      <td>7</td>\n",
              "      <td>658432</td>\n",
              "      <td>529408</td>\n",
              "      <td>5120.0</td>\n",
              "      <td>NaN</td>\n",
              "      <td>1</td>\n",
              "      <td>16</td>\n",
              "      <td>16.0</td>\n",
              "      <td>64.0</td>\n",
              "      <td>32.0</td>\n",
              "      <td>64.0</td>\n",
              "      <td>NaN</td>\n",
              "    </tr>\n",
              "    <tr>\n",
              "      <th>9</th>\n",
              "      <td>6</td>\n",
              "      <td>12</td>\n",
              "      <td>10</td>\n",
              "      <td>0</td>\n",
              "      <td>0</td>\n",
              "      <td>3</td>\n",
              "      <td>100663296</td>\n",
              "      <td>2</td>\n",
              "      <td>67108864</td>\n",
              "      <td>1</td>\n",
              "      <td>33554432</td>\n",
              "      <td>7</td>\n",
              "      <td>658432</td>\n",
              "      <td>529408</td>\n",
              "      <td>5120.0</td>\n",
              "      <td>NaN</td>\n",
              "      <td>2</td>\n",
              "      <td>16</td>\n",
              "      <td>16.0</td>\n",
              "      <td>32.0</td>\n",
              "      <td>32.0</td>\n",
              "      <td>64.0</td>\n",
              "      <td>NaN</td>\n",
              "    </tr>\n",
              "    <tr>\n",
              "      <th>10</th>\n",
              "      <td>5</td>\n",
              "      <td>12</td>\n",
              "      <td>10</td>\n",
              "      <td>0</td>\n",
              "      <td>0</td>\n",
              "      <td>3</td>\n",
              "      <td>100663296</td>\n",
              "      <td>2</td>\n",
              "      <td>67108864</td>\n",
              "      <td>1</td>\n",
              "      <td>33554432</td>\n",
              "      <td>7</td>\n",
              "      <td>658432</td>\n",
              "      <td>1664</td>\n",
              "      <td>1536.0</td>\n",
              "      <td>NaN</td>\n",
              "      <td>16</td>\n",
              "      <td>2</td>\n",
              "      <td>64.0</td>\n",
              "      <td>32.0</td>\n",
              "      <td>512.0</td>\n",
              "      <td>NaN</td>\n",
              "      <td>NaN</td>\n",
              "    </tr>\n",
              "    <tr>\n",
              "      <th>11</th>\n",
              "      <td>5</td>\n",
              "      <td>12</td>\n",
              "      <td>10</td>\n",
              "      <td>0</td>\n",
              "      <td>0</td>\n",
              "      <td>3</td>\n",
              "      <td>100663296</td>\n",
              "      <td>2</td>\n",
              "      <td>67108864</td>\n",
              "      <td>1</td>\n",
              "      <td>33554432</td>\n",
              "      <td>7</td>\n",
              "      <td>658432</td>\n",
              "      <td>134144</td>\n",
              "      <td>5120.0</td>\n",
              "      <td>NaN</td>\n",
              "      <td>4</td>\n",
              "      <td>1</td>\n",
              "      <td>128.0</td>\n",
              "      <td>64.0</td>\n",
              "      <td>1024.0</td>\n",
              "      <td>NaN</td>\n",
              "      <td>NaN</td>\n",
              "    </tr>\n",
              "    <tr>\n",
              "      <th>12</th>\n",
              "      <td>5</td>\n",
              "      <td>12</td>\n",
              "      <td>10</td>\n",
              "      <td>0</td>\n",
              "      <td>0</td>\n",
              "      <td>3</td>\n",
              "      <td>100663296</td>\n",
              "      <td>2</td>\n",
              "      <td>67108864</td>\n",
              "      <td>1</td>\n",
              "      <td>33554432</td>\n",
              "      <td>7</td>\n",
              "      <td>658432</td>\n",
              "      <td>1664</td>\n",
              "      <td>1536.0</td>\n",
              "      <td>NaN</td>\n",
              "      <td>1024</td>\n",
              "      <td>1</td>\n",
              "      <td>16.0</td>\n",
              "      <td>64.0</td>\n",
              "      <td>32.0</td>\n",
              "      <td>NaN</td>\n",
              "      <td>NaN</td>\n",
              "    </tr>\n",
              "    <tr>\n",
              "      <th>13</th>\n",
              "      <td>6</td>\n",
              "      <td>12</td>\n",
              "      <td>10</td>\n",
              "      <td>0</td>\n",
              "      <td>0</td>\n",
              "      <td>3</td>\n",
              "      <td>100663296</td>\n",
              "      <td>2</td>\n",
              "      <td>67108864</td>\n",
              "      <td>1</td>\n",
              "      <td>33554432</td>\n",
              "      <td>7</td>\n",
              "      <td>658432</td>\n",
              "      <td>529408</td>\n",
              "      <td>5120.0</td>\n",
              "      <td>NaN</td>\n",
              "      <td>2</td>\n",
              "      <td>4</td>\n",
              "      <td>16.0</td>\n",
              "      <td>32.0</td>\n",
              "      <td>128.0</td>\n",
              "      <td>64.0</td>\n",
              "      <td>NaN</td>\n",
              "    </tr>\n",
              "    <tr>\n",
              "      <th>14</th>\n",
              "      <td>6</td>\n",
              "      <td>12</td>\n",
              "      <td>10</td>\n",
              "      <td>0</td>\n",
              "      <td>0</td>\n",
              "      <td>3</td>\n",
              "      <td>100663296</td>\n",
              "      <td>2</td>\n",
              "      <td>67108864</td>\n",
              "      <td>1</td>\n",
              "      <td>33554432</td>\n",
              "      <td>7</td>\n",
              "      <td>658432</td>\n",
              "      <td>134144</td>\n",
              "      <td>128.0</td>\n",
              "      <td>NaN</td>\n",
              "      <td>4</td>\n",
              "      <td>16</td>\n",
              "      <td>1.0</td>\n",
              "      <td>128.0</td>\n",
              "      <td>64.0</td>\n",
              "      <td>64.0</td>\n",
              "      <td>NaN</td>\n",
              "    </tr>\n",
              "    <tr>\n",
              "      <th>15</th>\n",
              "      <td>5</td>\n",
              "      <td>12</td>\n",
              "      <td>10</td>\n",
              "      <td>0</td>\n",
              "      <td>0</td>\n",
              "      <td>3</td>\n",
              "      <td>100663296</td>\n",
              "      <td>2</td>\n",
              "      <td>67108864</td>\n",
              "      <td>1</td>\n",
              "      <td>33554432</td>\n",
              "      <td>7</td>\n",
              "      <td>658432</td>\n",
              "      <td>1664</td>\n",
              "      <td>1536.0</td>\n",
              "      <td>NaN</td>\n",
              "      <td>1024</td>\n",
              "      <td>2</td>\n",
              "      <td>16.0</td>\n",
              "      <td>32.0</td>\n",
              "      <td>32.0</td>\n",
              "      <td>NaN</td>\n",
              "      <td>NaN</td>\n",
              "    </tr>\n",
              "    <tr>\n",
              "      <th>16</th>\n",
              "      <td>5</td>\n",
              "      <td>12</td>\n",
              "      <td>10</td>\n",
              "      <td>0</td>\n",
              "      <td>0</td>\n",
              "      <td>3</td>\n",
              "      <td>100663296</td>\n",
              "      <td>2</td>\n",
              "      <td>67108864</td>\n",
              "      <td>1</td>\n",
              "      <td>33554432</td>\n",
              "      <td>7</td>\n",
              "      <td>658432</td>\n",
              "      <td>1664</td>\n",
              "      <td>1536.0</td>\n",
              "      <td>NaN</td>\n",
              "      <td>1024</td>\n",
              "      <td>2</td>\n",
              "      <td>8.0</td>\n",
              "      <td>32.0</td>\n",
              "      <td>64.0</td>\n",
              "      <td>NaN</td>\n",
              "      <td>NaN</td>\n",
              "    </tr>\n",
              "    <tr>\n",
              "      <th>17</th>\n",
              "      <td>6</td>\n",
              "      <td>12</td>\n",
              "      <td>10</td>\n",
              "      <td>0</td>\n",
              "      <td>0</td>\n",
              "      <td>3</td>\n",
              "      <td>100663296</td>\n",
              "      <td>2</td>\n",
              "      <td>67108864</td>\n",
              "      <td>1</td>\n",
              "      <td>33554432</td>\n",
              "      <td>7</td>\n",
              "      <td>658432</td>\n",
              "      <td>134144</td>\n",
              "      <td>5120.0</td>\n",
              "      <td>NaN</td>\n",
              "      <td>16</td>\n",
              "      <td>1</td>\n",
              "      <td>32.0</td>\n",
              "      <td>32.0</td>\n",
              "      <td>64.0</td>\n",
              "      <td>32.0</td>\n",
              "      <td>NaN</td>\n",
              "    </tr>\n",
              "    <tr>\n",
              "      <th>18</th>\n",
              "      <td>5</td>\n",
              "      <td>12</td>\n",
              "      <td>10</td>\n",
              "      <td>0</td>\n",
              "      <td>0</td>\n",
              "      <td>3</td>\n",
              "      <td>100663296</td>\n",
              "      <td>2</td>\n",
              "      <td>67108864</td>\n",
              "      <td>1</td>\n",
              "      <td>33554432</td>\n",
              "      <td>7</td>\n",
              "      <td>658432</td>\n",
              "      <td>134144</td>\n",
              "      <td>5120.0</td>\n",
              "      <td>NaN</td>\n",
              "      <td>512</td>\n",
              "      <td>2</td>\n",
              "      <td>8.0</td>\n",
              "      <td>32.0</td>\n",
              "      <td>128.0</td>\n",
              "      <td>NaN</td>\n",
              "      <td>NaN</td>\n",
              "    </tr>\n",
              "    <tr>\n",
              "      <th>19</th>\n",
              "      <td>6</td>\n",
              "      <td>12</td>\n",
              "      <td>10</td>\n",
              "      <td>0</td>\n",
              "      <td>0</td>\n",
              "      <td>3</td>\n",
              "      <td>100663296</td>\n",
              "      <td>2</td>\n",
              "      <td>67108864</td>\n",
              "      <td>1</td>\n",
              "      <td>33554432</td>\n",
              "      <td>7</td>\n",
              "      <td>658432</td>\n",
              "      <td>134144</td>\n",
              "      <td>5120.0</td>\n",
              "      <td>NaN</td>\n",
              "      <td>4</td>\n",
              "      <td>1</td>\n",
              "      <td>8.0</td>\n",
              "      <td>128.0</td>\n",
              "      <td>64.0</td>\n",
              "      <td>128.0</td>\n",
              "      <td>NaN</td>\n",
              "    </tr>\n",
              "    <tr>\n",
              "      <th>20</th>\n",
              "      <td>5</td>\n",
              "      <td>8</td>\n",
              "      <td>8</td>\n",
              "      <td>0</td>\n",
              "      <td>0</td>\n",
              "      <td>0</td>\n",
              "      <td>0</td>\n",
              "      <td>2</td>\n",
              "      <td>134217728</td>\n",
              "      <td>2</td>\n",
              "      <td>134217728</td>\n",
              "      <td>5</td>\n",
              "      <td>656384</td>\n",
              "      <td>132608</td>\n",
              "      <td>2048.0</td>\n",
              "      <td>NaN</td>\n",
              "      <td>4</td>\n",
              "      <td>2</td>\n",
              "      <td>128.0</td>\n",
              "      <td>128.0</td>\n",
              "      <td>512.0</td>\n",
              "      <td>NaN</td>\n",
              "      <td>NaN</td>\n",
              "    </tr>\n",
              "    <tr>\n",
              "      <th>21</th>\n",
              "      <td>5</td>\n",
              "      <td>8</td>\n",
              "      <td>8</td>\n",
              "      <td>0</td>\n",
              "      <td>0</td>\n",
              "      <td>0</td>\n",
              "      <td>0</td>\n",
              "      <td>2</td>\n",
              "      <td>134217728</td>\n",
              "      <td>2</td>\n",
              "      <td>134217728</td>\n",
              "      <td>5</td>\n",
              "      <td>656384</td>\n",
              "      <td>525824</td>\n",
              "      <td>1536.0</td>\n",
              "      <td>NaN</td>\n",
              "      <td>256</td>\n",
              "      <td>8</td>\n",
              "      <td>16.0</td>\n",
              "      <td>64.0</td>\n",
              "      <td>32.0</td>\n",
              "      <td>NaN</td>\n",
              "      <td>NaN</td>\n",
              "    </tr>\n",
              "    <tr>\n",
              "      <th>22</th>\n",
              "      <td>6</td>\n",
              "      <td>8</td>\n",
              "      <td>8</td>\n",
              "      <td>0</td>\n",
              "      <td>0</td>\n",
              "      <td>0</td>\n",
              "      <td>0</td>\n",
              "      <td>2</td>\n",
              "      <td>134217728</td>\n",
              "      <td>2</td>\n",
              "      <td>134217728</td>\n",
              "      <td>5</td>\n",
              "      <td>656384</td>\n",
              "      <td>1792</td>\n",
              "      <td>256.0</td>\n",
              "      <td>NaN</td>\n",
              "      <td>16</td>\n",
              "      <td>4</td>\n",
              "      <td>2.0</td>\n",
              "      <td>32.0</td>\n",
              "      <td>128.0</td>\n",
              "      <td>128.0</td>\n",
              "      <td>NaN</td>\n",
              "    </tr>\n",
              "    <tr>\n",
              "      <th>23</th>\n",
              "      <td>6</td>\n",
              "      <td>8</td>\n",
              "      <td>8</td>\n",
              "      <td>0</td>\n",
              "      <td>0</td>\n",
              "      <td>0</td>\n",
              "      <td>0</td>\n",
              "      <td>2</td>\n",
              "      <td>134217728</td>\n",
              "      <td>2</td>\n",
              "      <td>134217728</td>\n",
              "      <td>5</td>\n",
              "      <td>656384</td>\n",
              "      <td>525824</td>\n",
              "      <td>1536.0</td>\n",
              "      <td>NaN</td>\n",
              "      <td>8</td>\n",
              "      <td>16</td>\n",
              "      <td>4.0</td>\n",
              "      <td>32.0</td>\n",
              "      <td>32.0</td>\n",
              "      <td>128.0</td>\n",
              "      <td>NaN</td>\n",
              "    </tr>\n",
              "    <tr>\n",
              "      <th>24</th>\n",
              "      <td>5</td>\n",
              "      <td>8</td>\n",
              "      <td>8</td>\n",
              "      <td>0</td>\n",
              "      <td>0</td>\n",
              "      <td>0</td>\n",
              "      <td>0</td>\n",
              "      <td>2</td>\n",
              "      <td>134217728</td>\n",
              "      <td>2</td>\n",
              "      <td>134217728</td>\n",
              "      <td>5</td>\n",
              "      <td>656384</td>\n",
              "      <td>132608</td>\n",
              "      <td>2048.0</td>\n",
              "      <td>NaN</td>\n",
              "      <td>512</td>\n",
              "      <td>2</td>\n",
              "      <td>4.0</td>\n",
              "      <td>128.0</td>\n",
              "      <td>128.0</td>\n",
              "      <td>NaN</td>\n",
              "      <td>NaN</td>\n",
              "    </tr>\n",
              "    <tr>\n",
              "      <th>25</th>\n",
              "      <td>5</td>\n",
              "      <td>8</td>\n",
              "      <td>8</td>\n",
              "      <td>0</td>\n",
              "      <td>0</td>\n",
              "      <td>0</td>\n",
              "      <td>0</td>\n",
              "      <td>2</td>\n",
              "      <td>134217728</td>\n",
              "      <td>2</td>\n",
              "      <td>134217728</td>\n",
              "      <td>5</td>\n",
              "      <td>656384</td>\n",
              "      <td>1792</td>\n",
              "      <td>256.0</td>\n",
              "      <td>NaN</td>\n",
              "      <td>8</td>\n",
              "      <td>16</td>\n",
              "      <td>64.0</td>\n",
              "      <td>32.0</td>\n",
              "      <td>256.0</td>\n",
              "      <td>NaN</td>\n",
              "      <td>NaN</td>\n",
              "    </tr>\n",
              "    <tr>\n",
              "      <th>26</th>\n",
              "      <td>6</td>\n",
              "      <td>8</td>\n",
              "      <td>8</td>\n",
              "      <td>0</td>\n",
              "      <td>0</td>\n",
              "      <td>0</td>\n",
              "      <td>0</td>\n",
              "      <td>2</td>\n",
              "      <td>134217728</td>\n",
              "      <td>2</td>\n",
              "      <td>134217728</td>\n",
              "      <td>5</td>\n",
              "      <td>656384</td>\n",
              "      <td>132608</td>\n",
              "      <td>256.0</td>\n",
              "      <td>NaN</td>\n",
              "      <td>4</td>\n",
              "      <td>8</td>\n",
              "      <td>8.0</td>\n",
              "      <td>128.0</td>\n",
              "      <td>64.0</td>\n",
              "      <td>32.0</td>\n",
              "      <td>NaN</td>\n",
              "    </tr>\n",
              "    <tr>\n",
              "      <th>27</th>\n",
              "      <td>6</td>\n",
              "      <td>8</td>\n",
              "      <td>8</td>\n",
              "      <td>0</td>\n",
              "      <td>0</td>\n",
              "      <td>0</td>\n",
              "      <td>0</td>\n",
              "      <td>2</td>\n",
              "      <td>134217728</td>\n",
              "      <td>2</td>\n",
              "      <td>134217728</td>\n",
              "      <td>5</td>\n",
              "      <td>656384</td>\n",
              "      <td>1792</td>\n",
              "      <td>256.0</td>\n",
              "      <td>NaN</td>\n",
              "      <td>4</td>\n",
              "      <td>4</td>\n",
              "      <td>8.0</td>\n",
              "      <td>128.0</td>\n",
              "      <td>128.0</td>\n",
              "      <td>32.0</td>\n",
              "      <td>NaN</td>\n",
              "    </tr>\n",
              "    <tr>\n",
              "      <th>28</th>\n",
              "      <td>6</td>\n",
              "      <td>8</td>\n",
              "      <td>8</td>\n",
              "      <td>0</td>\n",
              "      <td>0</td>\n",
              "      <td>0</td>\n",
              "      <td>0</td>\n",
              "      <td>2</td>\n",
              "      <td>134217728</td>\n",
              "      <td>2</td>\n",
              "      <td>134217728</td>\n",
              "      <td>5</td>\n",
              "      <td>656384</td>\n",
              "      <td>132608</td>\n",
              "      <td>2048.0</td>\n",
              "      <td>NaN</td>\n",
              "      <td>8</td>\n",
              "      <td>2</td>\n",
              "      <td>16.0</td>\n",
              "      <td>64.0</td>\n",
              "      <td>128.0</td>\n",
              "      <td>32.0</td>\n",
              "      <td>NaN</td>\n",
              "    </tr>\n",
              "    <tr>\n",
              "      <th>29</th>\n",
              "      <td>5</td>\n",
              "      <td>8</td>\n",
              "      <td>8</td>\n",
              "      <td>0</td>\n",
              "      <td>0</td>\n",
              "      <td>0</td>\n",
              "      <td>0</td>\n",
              "      <td>2</td>\n",
              "      <td>134217728</td>\n",
              "      <td>2</td>\n",
              "      <td>134217728</td>\n",
              "      <td>5</td>\n",
              "      <td>656384</td>\n",
              "      <td>525824</td>\n",
              "      <td>1536.0</td>\n",
              "      <td>NaN</td>\n",
              "      <td>4</td>\n",
              "      <td>8</td>\n",
              "      <td>64.0</td>\n",
              "      <td>64.0</td>\n",
              "      <td>512.0</td>\n",
              "      <td>NaN</td>\n",
              "      <td>NaN</td>\n",
              "    </tr>\n",
              "    <tr>\n",
              "      <th>...</th>\n",
              "      <td>...</td>\n",
              "      <td>...</td>\n",
              "      <td>...</td>\n",
              "      <td>...</td>\n",
              "      <td>...</td>\n",
              "      <td>...</td>\n",
              "      <td>...</td>\n",
              "      <td>...</td>\n",
              "      <td>...</td>\n",
              "      <td>...</td>\n",
              "      <td>...</td>\n",
              "      <td>...</td>\n",
              "      <td>...</td>\n",
              "      <td>...</td>\n",
              "      <td>...</td>\n",
              "      <td>...</td>\n",
              "      <td>...</td>\n",
              "      <td>...</td>\n",
              "      <td>...</td>\n",
              "      <td>...</td>\n",
              "      <td>...</td>\n",
              "      <td>...</td>\n",
              "      <td>...</td>\n",
              "    </tr>\n",
              "    <tr>\n",
              "      <th>9924</th>\n",
              "      <td>6</td>\n",
              "      <td>8</td>\n",
              "      <td>14</td>\n",
              "      <td>0</td>\n",
              "      <td>1</td>\n",
              "      <td>1</td>\n",
              "      <td>67108864</td>\n",
              "      <td>1</td>\n",
              "      <td>67108864</td>\n",
              "      <td>2</td>\n",
              "      <td>134217728</td>\n",
              "      <td>5</td>\n",
              "      <td>3153920</td>\n",
              "      <td>57344</td>\n",
              "      <td>448.0</td>\n",
              "      <td>192.0</td>\n",
              "      <td>64</td>\n",
              "      <td>2</td>\n",
              "      <td>4.0</td>\n",
              "      <td>64.0</td>\n",
              "      <td>32.0</td>\n",
              "      <td>64.0</td>\n",
              "      <td>NaN</td>\n",
              "    </tr>\n",
              "    <tr>\n",
              "      <th>9925</th>\n",
              "      <td>7</td>\n",
              "      <td>8</td>\n",
              "      <td>14</td>\n",
              "      <td>0</td>\n",
              "      <td>1</td>\n",
              "      <td>1</td>\n",
              "      <td>67108864</td>\n",
              "      <td>1</td>\n",
              "      <td>67108864</td>\n",
              "      <td>2</td>\n",
              "      <td>134217728</td>\n",
              "      <td>5</td>\n",
              "      <td>3153920</td>\n",
              "      <td>2113664</td>\n",
              "      <td>32896.0</td>\n",
              "      <td>256.0</td>\n",
              "      <td>64</td>\n",
              "      <td>1</td>\n",
              "      <td>2.0</td>\n",
              "      <td>1.0</td>\n",
              "      <td>128.0</td>\n",
              "      <td>64.0</td>\n",
              "      <td>64.0</td>\n",
              "    </tr>\n",
              "    <tr>\n",
              "      <th>9926</th>\n",
              "      <td>7</td>\n",
              "      <td>8</td>\n",
              "      <td>14</td>\n",
              "      <td>0</td>\n",
              "      <td>1</td>\n",
              "      <td>1</td>\n",
              "      <td>67108864</td>\n",
              "      <td>1</td>\n",
              "      <td>67108864</td>\n",
              "      <td>2</td>\n",
              "      <td>134217728</td>\n",
              "      <td>5</td>\n",
              "      <td>3153920</td>\n",
              "      <td>24640</td>\n",
              "      <td>16512.0</td>\n",
              "      <td>256.0</td>\n",
              "      <td>1</td>\n",
              "      <td>2</td>\n",
              "      <td>4.0</td>\n",
              "      <td>128.0</td>\n",
              "      <td>32.0</td>\n",
              "      <td>32.0</td>\n",
              "      <td>64.0</td>\n",
              "    </tr>\n",
              "    <tr>\n",
              "      <th>9927</th>\n",
              "      <td>6</td>\n",
              "      <td>8</td>\n",
              "      <td>14</td>\n",
              "      <td>0</td>\n",
              "      <td>1</td>\n",
              "      <td>1</td>\n",
              "      <td>67108864</td>\n",
              "      <td>1</td>\n",
              "      <td>67108864</td>\n",
              "      <td>2</td>\n",
              "      <td>134217728</td>\n",
              "      <td>5</td>\n",
              "      <td>3153920</td>\n",
              "      <td>2113664</td>\n",
              "      <td>16512.0</td>\n",
              "      <td>256.0</td>\n",
              "      <td>64</td>\n",
              "      <td>128</td>\n",
              "      <td>4.0</td>\n",
              "      <td>1.0</td>\n",
              "      <td>32.0</td>\n",
              "      <td>64.0</td>\n",
              "      <td>NaN</td>\n",
              "    </tr>\n",
              "    <tr>\n",
              "      <th>9928</th>\n",
              "      <td>6</td>\n",
              "      <td>4</td>\n",
              "      <td>4</td>\n",
              "      <td>0</td>\n",
              "      <td>1</td>\n",
              "      <td>1</td>\n",
              "      <td>33554432</td>\n",
              "      <td>0</td>\n",
              "      <td>0</td>\n",
              "      <td>1</td>\n",
              "      <td>33554432</td>\n",
              "      <td>3</td>\n",
              "      <td>263168</td>\n",
              "      <td>263168</td>\n",
              "      <td>512.0</td>\n",
              "      <td>NaN</td>\n",
              "      <td>2</td>\n",
              "      <td>4</td>\n",
              "      <td>8.0</td>\n",
              "      <td>64.0</td>\n",
              "      <td>128.0</td>\n",
              "      <td>64.0</td>\n",
              "      <td>NaN</td>\n",
              "    </tr>\n",
              "    <tr>\n",
              "      <th>9929</th>\n",
              "      <td>6</td>\n",
              "      <td>4</td>\n",
              "      <td>4</td>\n",
              "      <td>0</td>\n",
              "      <td>1</td>\n",
              "      <td>1</td>\n",
              "      <td>33554432</td>\n",
              "      <td>0</td>\n",
              "      <td>0</td>\n",
              "      <td>1</td>\n",
              "      <td>33554432</td>\n",
              "      <td>3</td>\n",
              "      <td>263168</td>\n",
              "      <td>263168</td>\n",
              "      <td>512.0</td>\n",
              "      <td>NaN</td>\n",
              "      <td>1</td>\n",
              "      <td>16</td>\n",
              "      <td>16.0</td>\n",
              "      <td>128.0</td>\n",
              "      <td>32.0</td>\n",
              "      <td>32.0</td>\n",
              "      <td>NaN</td>\n",
              "    </tr>\n",
              "    <tr>\n",
              "      <th>9930</th>\n",
              "      <td>6</td>\n",
              "      <td>4</td>\n",
              "      <td>4</td>\n",
              "      <td>0</td>\n",
              "      <td>1</td>\n",
              "      <td>1</td>\n",
              "      <td>33554432</td>\n",
              "      <td>0</td>\n",
              "      <td>0</td>\n",
              "      <td>1</td>\n",
              "      <td>33554432</td>\n",
              "      <td>3</td>\n",
              "      <td>263168</td>\n",
              "      <td>512</td>\n",
              "      <td>0.0</td>\n",
              "      <td>NaN</td>\n",
              "      <td>8</td>\n",
              "      <td>4</td>\n",
              "      <td>2.0</td>\n",
              "      <td>64.0</td>\n",
              "      <td>128.0</td>\n",
              "      <td>64.0</td>\n",
              "      <td>NaN</td>\n",
              "    </tr>\n",
              "    <tr>\n",
              "      <th>9931</th>\n",
              "      <td>5</td>\n",
              "      <td>4</td>\n",
              "      <td>4</td>\n",
              "      <td>0</td>\n",
              "      <td>1</td>\n",
              "      <td>1</td>\n",
              "      <td>33554432</td>\n",
              "      <td>0</td>\n",
              "      <td>0</td>\n",
              "      <td>1</td>\n",
              "      <td>33554432</td>\n",
              "      <td>3</td>\n",
              "      <td>263168</td>\n",
              "      <td>512</td>\n",
              "      <td>0.0</td>\n",
              "      <td>NaN</td>\n",
              "      <td>16</td>\n",
              "      <td>8</td>\n",
              "      <td>32.0</td>\n",
              "      <td>64.0</td>\n",
              "      <td>128.0</td>\n",
              "      <td>NaN</td>\n",
              "      <td>NaN</td>\n",
              "    </tr>\n",
              "    <tr>\n",
              "      <th>9932</th>\n",
              "      <td>6</td>\n",
              "      <td>4</td>\n",
              "      <td>4</td>\n",
              "      <td>0</td>\n",
              "      <td>1</td>\n",
              "      <td>1</td>\n",
              "      <td>33554432</td>\n",
              "      <td>0</td>\n",
              "      <td>0</td>\n",
              "      <td>1</td>\n",
              "      <td>33554432</td>\n",
              "      <td>3</td>\n",
              "      <td>263168</td>\n",
              "      <td>512</td>\n",
              "      <td>0.0</td>\n",
              "      <td>NaN</td>\n",
              "      <td>4</td>\n",
              "      <td>4</td>\n",
              "      <td>4.0</td>\n",
              "      <td>128.0</td>\n",
              "      <td>128.0</td>\n",
              "      <td>32.0</td>\n",
              "      <td>NaN</td>\n",
              "    </tr>\n",
              "    <tr>\n",
              "      <th>9933</th>\n",
              "      <td>6</td>\n",
              "      <td>4</td>\n",
              "      <td>4</td>\n",
              "      <td>0</td>\n",
              "      <td>1</td>\n",
              "      <td>1</td>\n",
              "      <td>33554432</td>\n",
              "      <td>0</td>\n",
              "      <td>0</td>\n",
              "      <td>1</td>\n",
              "      <td>33554432</td>\n",
              "      <td>3</td>\n",
              "      <td>263168</td>\n",
              "      <td>263168</td>\n",
              "      <td>512.0</td>\n",
              "      <td>NaN</td>\n",
              "      <td>2</td>\n",
              "      <td>4</td>\n",
              "      <td>4.0</td>\n",
              "      <td>64.0</td>\n",
              "      <td>128.0</td>\n",
              "      <td>128.0</td>\n",
              "      <td>NaN</td>\n",
              "    </tr>\n",
              "    <tr>\n",
              "      <th>9934</th>\n",
              "      <td>6</td>\n",
              "      <td>4</td>\n",
              "      <td>4</td>\n",
              "      <td>0</td>\n",
              "      <td>1</td>\n",
              "      <td>1</td>\n",
              "      <td>33554432</td>\n",
              "      <td>0</td>\n",
              "      <td>0</td>\n",
              "      <td>1</td>\n",
              "      <td>33554432</td>\n",
              "      <td>3</td>\n",
              "      <td>263168</td>\n",
              "      <td>263168</td>\n",
              "      <td>512.0</td>\n",
              "      <td>NaN</td>\n",
              "      <td>4</td>\n",
              "      <td>8</td>\n",
              "      <td>4.0</td>\n",
              "      <td>32.0</td>\n",
              "      <td>64.0</td>\n",
              "      <td>128.0</td>\n",
              "      <td>NaN</td>\n",
              "    </tr>\n",
              "    <tr>\n",
              "      <th>9935</th>\n",
              "      <td>6</td>\n",
              "      <td>4</td>\n",
              "      <td>4</td>\n",
              "      <td>0</td>\n",
              "      <td>1</td>\n",
              "      <td>1</td>\n",
              "      <td>33554432</td>\n",
              "      <td>0</td>\n",
              "      <td>0</td>\n",
              "      <td>1</td>\n",
              "      <td>33554432</td>\n",
              "      <td>3</td>\n",
              "      <td>263168</td>\n",
              "      <td>512</td>\n",
              "      <td>0.0</td>\n",
              "      <td>NaN</td>\n",
              "      <td>16</td>\n",
              "      <td>8</td>\n",
              "      <td>1.0</td>\n",
              "      <td>32.0</td>\n",
              "      <td>64.0</td>\n",
              "      <td>128.0</td>\n",
              "      <td>NaN</td>\n",
              "    </tr>\n",
              "    <tr>\n",
              "      <th>9936</th>\n",
              "      <td>5</td>\n",
              "      <td>4</td>\n",
              "      <td>4</td>\n",
              "      <td>0</td>\n",
              "      <td>1</td>\n",
              "      <td>1</td>\n",
              "      <td>33554432</td>\n",
              "      <td>0</td>\n",
              "      <td>0</td>\n",
              "      <td>1</td>\n",
              "      <td>33554432</td>\n",
              "      <td>3</td>\n",
              "      <td>263168</td>\n",
              "      <td>512</td>\n",
              "      <td>0.0</td>\n",
              "      <td>NaN</td>\n",
              "      <td>16</td>\n",
              "      <td>16</td>\n",
              "      <td>32.0</td>\n",
              "      <td>32.0</td>\n",
              "      <td>128.0</td>\n",
              "      <td>NaN</td>\n",
              "      <td>NaN</td>\n",
              "    </tr>\n",
              "    <tr>\n",
              "      <th>9937</th>\n",
              "      <td>6</td>\n",
              "      <td>4</td>\n",
              "      <td>4</td>\n",
              "      <td>0</td>\n",
              "      <td>1</td>\n",
              "      <td>1</td>\n",
              "      <td>33554432</td>\n",
              "      <td>0</td>\n",
              "      <td>0</td>\n",
              "      <td>1</td>\n",
              "      <td>33554432</td>\n",
              "      <td>3</td>\n",
              "      <td>263168</td>\n",
              "      <td>1536</td>\n",
              "      <td>1536.0</td>\n",
              "      <td>NaN</td>\n",
              "      <td>16</td>\n",
              "      <td>4</td>\n",
              "      <td>4.0</td>\n",
              "      <td>32.0</td>\n",
              "      <td>32.0</td>\n",
              "      <td>128.0</td>\n",
              "      <td>NaN</td>\n",
              "    </tr>\n",
              "    <tr>\n",
              "      <th>9938</th>\n",
              "      <td>6</td>\n",
              "      <td>12</td>\n",
              "      <td>9</td>\n",
              "      <td>0</td>\n",
              "      <td>1</td>\n",
              "      <td>0</td>\n",
              "      <td>0</td>\n",
              "      <td>2</td>\n",
              "      <td>134217728</td>\n",
              "      <td>4</td>\n",
              "      <td>268435456</td>\n",
              "      <td>7</td>\n",
              "      <td>133504</td>\n",
              "      <td>2688</td>\n",
              "      <td>2048.0</td>\n",
              "      <td>NaN</td>\n",
              "      <td>4</td>\n",
              "      <td>2</td>\n",
              "      <td>16.0</td>\n",
              "      <td>128.0</td>\n",
              "      <td>64.0</td>\n",
              "      <td>64.0</td>\n",
              "      <td>NaN</td>\n",
              "    </tr>\n",
              "    <tr>\n",
              "      <th>9939</th>\n",
              "      <td>6</td>\n",
              "      <td>12</td>\n",
              "      <td>9</td>\n",
              "      <td>0</td>\n",
              "      <td>1</td>\n",
              "      <td>0</td>\n",
              "      <td>0</td>\n",
              "      <td>2</td>\n",
              "      <td>134217728</td>\n",
              "      <td>4</td>\n",
              "      <td>268435456</td>\n",
              "      <td>7</td>\n",
              "      <td>133504</td>\n",
              "      <td>3072</td>\n",
              "      <td>2048.0</td>\n",
              "      <td>NaN</td>\n",
              "      <td>1</td>\n",
              "      <td>8</td>\n",
              "      <td>16.0</td>\n",
              "      <td>128.0</td>\n",
              "      <td>64.0</td>\n",
              "      <td>64.0</td>\n",
              "      <td>NaN</td>\n",
              "    </tr>\n",
              "    <tr>\n",
              "      <th>9940</th>\n",
              "      <td>5</td>\n",
              "      <td>12</td>\n",
              "      <td>9</td>\n",
              "      <td>0</td>\n",
              "      <td>1</td>\n",
              "      <td>0</td>\n",
              "      <td>0</td>\n",
              "      <td>2</td>\n",
              "      <td>134217728</td>\n",
              "      <td>4</td>\n",
              "      <td>268435456</td>\n",
              "      <td>7</td>\n",
              "      <td>133504</td>\n",
              "      <td>131456</td>\n",
              "      <td>640.0</td>\n",
              "      <td>NaN</td>\n",
              "      <td>16</td>\n",
              "      <td>4</td>\n",
              "      <td>64.0</td>\n",
              "      <td>128.0</td>\n",
              "      <td>128.0</td>\n",
              "      <td>NaN</td>\n",
              "      <td>NaN</td>\n",
              "    </tr>\n",
              "    <tr>\n",
              "      <th>9941</th>\n",
              "      <td>6</td>\n",
              "      <td>12</td>\n",
              "      <td>9</td>\n",
              "      <td>0</td>\n",
              "      <td>1</td>\n",
              "      <td>0</td>\n",
              "      <td>0</td>\n",
              "      <td>2</td>\n",
              "      <td>134217728</td>\n",
              "      <td>4</td>\n",
              "      <td>268435456</td>\n",
              "      <td>7</td>\n",
              "      <td>133504</td>\n",
              "      <td>131456</td>\n",
              "      <td>640.0</td>\n",
              "      <td>NaN</td>\n",
              "      <td>16</td>\n",
              "      <td>4</td>\n",
              "      <td>1.0</td>\n",
              "      <td>64.0</td>\n",
              "      <td>128.0</td>\n",
              "      <td>128.0</td>\n",
              "      <td>NaN</td>\n",
              "    </tr>\n",
              "    <tr>\n",
              "      <th>9942</th>\n",
              "      <td>6</td>\n",
              "      <td>12</td>\n",
              "      <td>9</td>\n",
              "      <td>0</td>\n",
              "      <td>1</td>\n",
              "      <td>0</td>\n",
              "      <td>0</td>\n",
              "      <td>2</td>\n",
              "      <td>134217728</td>\n",
              "      <td>4</td>\n",
              "      <td>268435456</td>\n",
              "      <td>7</td>\n",
              "      <td>133504</td>\n",
              "      <td>3072</td>\n",
              "      <td>2048.0</td>\n",
              "      <td>NaN</td>\n",
              "      <td>4</td>\n",
              "      <td>8</td>\n",
              "      <td>32.0</td>\n",
              "      <td>32.0</td>\n",
              "      <td>64.0</td>\n",
              "      <td>32.0</td>\n",
              "      <td>NaN</td>\n",
              "    </tr>\n",
              "    <tr>\n",
              "      <th>9943</th>\n",
              "      <td>6</td>\n",
              "      <td>12</td>\n",
              "      <td>9</td>\n",
              "      <td>0</td>\n",
              "      <td>1</td>\n",
              "      <td>0</td>\n",
              "      <td>0</td>\n",
              "      <td>2</td>\n",
              "      <td>134217728</td>\n",
              "      <td>4</td>\n",
              "      <td>268435456</td>\n",
              "      <td>7</td>\n",
              "      <td>133504</td>\n",
              "      <td>3072</td>\n",
              "      <td>2048.0</td>\n",
              "      <td>NaN</td>\n",
              "      <td>2</td>\n",
              "      <td>4</td>\n",
              "      <td>32.0</td>\n",
              "      <td>64.0</td>\n",
              "      <td>128.0</td>\n",
              "      <td>32.0</td>\n",
              "      <td>NaN</td>\n",
              "    </tr>\n",
              "    <tr>\n",
              "      <th>9944</th>\n",
              "      <td>6</td>\n",
              "      <td>12</td>\n",
              "      <td>9</td>\n",
              "      <td>0</td>\n",
              "      <td>1</td>\n",
              "      <td>0</td>\n",
              "      <td>0</td>\n",
              "      <td>2</td>\n",
              "      <td>134217728</td>\n",
              "      <td>4</td>\n",
              "      <td>268435456</td>\n",
              "      <td>7</td>\n",
              "      <td>133504</td>\n",
              "      <td>3072</td>\n",
              "      <td>1024.0</td>\n",
              "      <td>NaN</td>\n",
              "      <td>4</td>\n",
              "      <td>8</td>\n",
              "      <td>16.0</td>\n",
              "      <td>32.0</td>\n",
              "      <td>128.0</td>\n",
              "      <td>32.0</td>\n",
              "      <td>NaN</td>\n",
              "    </tr>\n",
              "    <tr>\n",
              "      <th>9945</th>\n",
              "      <td>6</td>\n",
              "      <td>12</td>\n",
              "      <td>9</td>\n",
              "      <td>0</td>\n",
              "      <td>1</td>\n",
              "      <td>0</td>\n",
              "      <td>0</td>\n",
              "      <td>2</td>\n",
              "      <td>134217728</td>\n",
              "      <td>4</td>\n",
              "      <td>268435456</td>\n",
              "      <td>7</td>\n",
              "      <td>133504</td>\n",
              "      <td>3072</td>\n",
              "      <td>2048.0</td>\n",
              "      <td>NaN</td>\n",
              "      <td>1</td>\n",
              "      <td>4</td>\n",
              "      <td>32.0</td>\n",
              "      <td>128.0</td>\n",
              "      <td>128.0</td>\n",
              "      <td>32.0</td>\n",
              "      <td>NaN</td>\n",
              "    </tr>\n",
              "    <tr>\n",
              "      <th>9946</th>\n",
              "      <td>5</td>\n",
              "      <td>12</td>\n",
              "      <td>9</td>\n",
              "      <td>0</td>\n",
              "      <td>1</td>\n",
              "      <td>0</td>\n",
              "      <td>0</td>\n",
              "      <td>2</td>\n",
              "      <td>134217728</td>\n",
              "      <td>4</td>\n",
              "      <td>268435456</td>\n",
              "      <td>7</td>\n",
              "      <td>133504</td>\n",
              "      <td>131456</td>\n",
              "      <td>640.0</td>\n",
              "      <td>NaN</td>\n",
              "      <td>1024</td>\n",
              "      <td>4</td>\n",
              "      <td>1.0</td>\n",
              "      <td>128.0</td>\n",
              "      <td>128.0</td>\n",
              "      <td>NaN</td>\n",
              "      <td>NaN</td>\n",
              "    </tr>\n",
              "    <tr>\n",
              "      <th>9947</th>\n",
              "      <td>6</td>\n",
              "      <td>12</td>\n",
              "      <td>9</td>\n",
              "      <td>0</td>\n",
              "      <td>1</td>\n",
              "      <td>0</td>\n",
              "      <td>0</td>\n",
              "      <td>2</td>\n",
              "      <td>134217728</td>\n",
              "      <td>4</td>\n",
              "      <td>268435456</td>\n",
              "      <td>7</td>\n",
              "      <td>133504</td>\n",
              "      <td>2688</td>\n",
              "      <td>2048.0</td>\n",
              "      <td>NaN</td>\n",
              "      <td>4</td>\n",
              "      <td>1</td>\n",
              "      <td>8.0</td>\n",
              "      <td>128.0</td>\n",
              "      <td>128.0</td>\n",
              "      <td>128.0</td>\n",
              "      <td>NaN</td>\n",
              "    </tr>\n",
              "    <tr>\n",
              "      <th>9948</th>\n",
              "      <td>4</td>\n",
              "      <td>16</td>\n",
              "      <td>9</td>\n",
              "      <td>0</td>\n",
              "      <td>1</td>\n",
              "      <td>4</td>\n",
              "      <td>268435456</td>\n",
              "      <td>1</td>\n",
              "      <td>67108864</td>\n",
              "      <td>3</td>\n",
              "      <td>201326592</td>\n",
              "      <td>9</td>\n",
              "      <td>3146112</td>\n",
              "      <td>384</td>\n",
              "      <td>NaN</td>\n",
              "      <td>NaN</td>\n",
              "      <td>8192</td>\n",
              "      <td>2</td>\n",
              "      <td>64.0</td>\n",
              "      <td>64.0</td>\n",
              "      <td>NaN</td>\n",
              "      <td>NaN</td>\n",
              "      <td>NaN</td>\n",
              "    </tr>\n",
              "    <tr>\n",
              "      <th>9949</th>\n",
              "      <td>4</td>\n",
              "      <td>16</td>\n",
              "      <td>9</td>\n",
              "      <td>0</td>\n",
              "      <td>1</td>\n",
              "      <td>4</td>\n",
              "      <td>268435456</td>\n",
              "      <td>1</td>\n",
              "      <td>67108864</td>\n",
              "      <td>3</td>\n",
              "      <td>201326592</td>\n",
              "      <td>9</td>\n",
              "      <td>3146112</td>\n",
              "      <td>384</td>\n",
              "      <td>NaN</td>\n",
              "      <td>NaN</td>\n",
              "      <td>8192</td>\n",
              "      <td>1</td>\n",
              "      <td>64.0</td>\n",
              "      <td>128.0</td>\n",
              "      <td>NaN</td>\n",
              "      <td>NaN</td>\n",
              "      <td>NaN</td>\n",
              "    </tr>\n",
              "    <tr>\n",
              "      <th>9950</th>\n",
              "      <td>4</td>\n",
              "      <td>16</td>\n",
              "      <td>9</td>\n",
              "      <td>0</td>\n",
              "      <td>1</td>\n",
              "      <td>4</td>\n",
              "      <td>268435456</td>\n",
              "      <td>1</td>\n",
              "      <td>67108864</td>\n",
              "      <td>3</td>\n",
              "      <td>201326592</td>\n",
              "      <td>9</td>\n",
              "      <td>3146112</td>\n",
              "      <td>3145728</td>\n",
              "      <td>NaN</td>\n",
              "      <td>NaN</td>\n",
              "      <td>1</td>\n",
              "      <td>4096</td>\n",
              "      <td>128.0</td>\n",
              "      <td>128.0</td>\n",
              "      <td>NaN</td>\n",
              "      <td>NaN</td>\n",
              "      <td>NaN</td>\n",
              "    </tr>\n",
              "    <tr>\n",
              "      <th>9951</th>\n",
              "      <td>4</td>\n",
              "      <td>16</td>\n",
              "      <td>9</td>\n",
              "      <td>0</td>\n",
              "      <td>1</td>\n",
              "      <td>4</td>\n",
              "      <td>268435456</td>\n",
              "      <td>1</td>\n",
              "      <td>67108864</td>\n",
              "      <td>3</td>\n",
              "      <td>201326592</td>\n",
              "      <td>9</td>\n",
              "      <td>3146112</td>\n",
              "      <td>3145728</td>\n",
              "      <td>NaN</td>\n",
              "      <td>NaN</td>\n",
              "      <td>2</td>\n",
              "      <td>4096</td>\n",
              "      <td>64.0</td>\n",
              "      <td>128.0</td>\n",
              "      <td>NaN</td>\n",
              "      <td>NaN</td>\n",
              "      <td>NaN</td>\n",
              "    </tr>\n",
              "    <tr>\n",
              "      <th>9952</th>\n",
              "      <td>4</td>\n",
              "      <td>16</td>\n",
              "      <td>9</td>\n",
              "      <td>0</td>\n",
              "      <td>1</td>\n",
              "      <td>4</td>\n",
              "      <td>268435456</td>\n",
              "      <td>1</td>\n",
              "      <td>67108864</td>\n",
              "      <td>3</td>\n",
              "      <td>201326592</td>\n",
              "      <td>9</td>\n",
              "      <td>3146112</td>\n",
              "      <td>3145728</td>\n",
              "      <td>NaN</td>\n",
              "      <td>NaN</td>\n",
              "      <td>4</td>\n",
              "      <td>4096</td>\n",
              "      <td>32.0</td>\n",
              "      <td>128.0</td>\n",
              "      <td>NaN</td>\n",
              "      <td>NaN</td>\n",
              "      <td>NaN</td>\n",
              "    </tr>\n",
              "    <tr>\n",
              "      <th>9953</th>\n",
              "      <td>4</td>\n",
              "      <td>16</td>\n",
              "      <td>9</td>\n",
              "      <td>0</td>\n",
              "      <td>1</td>\n",
              "      <td>4</td>\n",
              "      <td>268435456</td>\n",
              "      <td>1</td>\n",
              "      <td>67108864</td>\n",
              "      <td>3</td>\n",
              "      <td>201326592</td>\n",
              "      <td>9</td>\n",
              "      <td>3146112</td>\n",
              "      <td>3145728</td>\n",
              "      <td>NaN</td>\n",
              "      <td>NaN</td>\n",
              "      <td>1</td>\n",
              "      <td>8192</td>\n",
              "      <td>128.0</td>\n",
              "      <td>64.0</td>\n",
              "      <td>NaN</td>\n",
              "      <td>NaN</td>\n",
              "      <td>NaN</td>\n",
              "    </tr>\n",
              "  </tbody>\n",
              "</table>\n",
              "<p>9954 rows × 23 columns</p>\n",
              "</div>"
            ],
            "text/plain": [
              "      0   1   2   3   4   5   ...    17     18     19      20     21    22\n",
              "0      5  12  10   0   0   3  ...    16  128.0   64.0    64.0    NaN   NaN\n",
              "1      6  12  10   0   0   3  ...     2    8.0   64.0    32.0   64.0   NaN\n",
              "2      6  12  10   0   0   3  ...    16   32.0   32.0    32.0   32.0   NaN\n",
              "3      5  12  10   0   0   3  ...     2   64.0   32.0   512.0    NaN   NaN\n",
              "4      5  12  10   0   0   3  ...     1  128.0   64.0   512.0    NaN   NaN\n",
              "5      6  12  10   0   0   3  ...     1   16.0   64.0    64.0   64.0   NaN\n",
              "6      5  12  10   0   0   3  ...     1   64.0   64.0  1024.0    NaN   NaN\n",
              "7      6  12  10   0   0   3  ...     1   16.0   32.0    64.0   32.0   NaN\n",
              "8      6  12  10   0   0   3  ...    16   16.0   64.0    32.0   64.0   NaN\n",
              "9      6  12  10   0   0   3  ...    16   16.0   32.0    32.0   64.0   NaN\n",
              "10     5  12  10   0   0   3  ...     2   64.0   32.0   512.0    NaN   NaN\n",
              "11     5  12  10   0   0   3  ...     1  128.0   64.0  1024.0    NaN   NaN\n",
              "12     5  12  10   0   0   3  ...     1   16.0   64.0    32.0    NaN   NaN\n",
              "13     6  12  10   0   0   3  ...     4   16.0   32.0   128.0   64.0   NaN\n",
              "14     6  12  10   0   0   3  ...    16    1.0  128.0    64.0   64.0   NaN\n",
              "15     5  12  10   0   0   3  ...     2   16.0   32.0    32.0    NaN   NaN\n",
              "16     5  12  10   0   0   3  ...     2    8.0   32.0    64.0    NaN   NaN\n",
              "17     6  12  10   0   0   3  ...     1   32.0   32.0    64.0   32.0   NaN\n",
              "18     5  12  10   0   0   3  ...     2    8.0   32.0   128.0    NaN   NaN\n",
              "19     6  12  10   0   0   3  ...     1    8.0  128.0    64.0  128.0   NaN\n",
              "20     5   8   8   0   0   0  ...     2  128.0  128.0   512.0    NaN   NaN\n",
              "21     5   8   8   0   0   0  ...     8   16.0   64.0    32.0    NaN   NaN\n",
              "22     6   8   8   0   0   0  ...     4    2.0   32.0   128.0  128.0   NaN\n",
              "23     6   8   8   0   0   0  ...    16    4.0   32.0    32.0  128.0   NaN\n",
              "24     5   8   8   0   0   0  ...     2    4.0  128.0   128.0    NaN   NaN\n",
              "25     5   8   8   0   0   0  ...    16   64.0   32.0   256.0    NaN   NaN\n",
              "26     6   8   8   0   0   0  ...     8    8.0  128.0    64.0   32.0   NaN\n",
              "27     6   8   8   0   0   0  ...     4    8.0  128.0   128.0   32.0   NaN\n",
              "28     6   8   8   0   0   0  ...     2   16.0   64.0   128.0   32.0   NaN\n",
              "29     5   8   8   0   0   0  ...     8   64.0   64.0   512.0    NaN   NaN\n",
              "...   ..  ..  ..  ..  ..  ..  ...   ...    ...    ...     ...    ...   ...\n",
              "9924   6   8  14   0   1   1  ...     2    4.0   64.0    32.0   64.0   NaN\n",
              "9925   7   8  14   0   1   1  ...     1    2.0    1.0   128.0   64.0  64.0\n",
              "9926   7   8  14   0   1   1  ...     2    4.0  128.0    32.0   32.0  64.0\n",
              "9927   6   8  14   0   1   1  ...   128    4.0    1.0    32.0   64.0   NaN\n",
              "9928   6   4   4   0   1   1  ...     4    8.0   64.0   128.0   64.0   NaN\n",
              "9929   6   4   4   0   1   1  ...    16   16.0  128.0    32.0   32.0   NaN\n",
              "9930   6   4   4   0   1   1  ...     4    2.0   64.0   128.0   64.0   NaN\n",
              "9931   5   4   4   0   1   1  ...     8   32.0   64.0   128.0    NaN   NaN\n",
              "9932   6   4   4   0   1   1  ...     4    4.0  128.0   128.0   32.0   NaN\n",
              "9933   6   4   4   0   1   1  ...     4    4.0   64.0   128.0  128.0   NaN\n",
              "9934   6   4   4   0   1   1  ...     8    4.0   32.0    64.0  128.0   NaN\n",
              "9935   6   4   4   0   1   1  ...     8    1.0   32.0    64.0  128.0   NaN\n",
              "9936   5   4   4   0   1   1  ...    16   32.0   32.0   128.0    NaN   NaN\n",
              "9937   6   4   4   0   1   1  ...     4    4.0   32.0    32.0  128.0   NaN\n",
              "9938   6  12   9   0   1   0  ...     2   16.0  128.0    64.0   64.0   NaN\n",
              "9939   6  12   9   0   1   0  ...     8   16.0  128.0    64.0   64.0   NaN\n",
              "9940   5  12   9   0   1   0  ...     4   64.0  128.0   128.0    NaN   NaN\n",
              "9941   6  12   9   0   1   0  ...     4    1.0   64.0   128.0  128.0   NaN\n",
              "9942   6  12   9   0   1   0  ...     8   32.0   32.0    64.0   32.0   NaN\n",
              "9943   6  12   9   0   1   0  ...     4   32.0   64.0   128.0   32.0   NaN\n",
              "9944   6  12   9   0   1   0  ...     8   16.0   32.0   128.0   32.0   NaN\n",
              "9945   6  12   9   0   1   0  ...     4   32.0  128.0   128.0   32.0   NaN\n",
              "9946   5  12   9   0   1   0  ...     4    1.0  128.0   128.0    NaN   NaN\n",
              "9947   6  12   9   0   1   0  ...     1    8.0  128.0   128.0  128.0   NaN\n",
              "9948   4  16   9   0   1   4  ...     2   64.0   64.0     NaN    NaN   NaN\n",
              "9949   4  16   9   0   1   4  ...     1   64.0  128.0     NaN    NaN   NaN\n",
              "9950   4  16   9   0   1   4  ...  4096  128.0  128.0     NaN    NaN   NaN\n",
              "9951   4  16   9   0   1   4  ...  4096   64.0  128.0     NaN    NaN   NaN\n",
              "9952   4  16   9   0   1   4  ...  4096   32.0  128.0     NaN    NaN   NaN\n",
              "9953   4  16   9   0   1   4  ...  8192  128.0   64.0     NaN    NaN   NaN\n",
              "\n",
              "[9954 rows x 23 columns]"
            ]
          },
          "metadata": {
            "tags": []
          },
          "execution_count": 60
        }
      ]
    },
    {
      "cell_type": "code",
      "metadata": {
        "id": "t0W29imf23ke",
        "colab_type": "code",
        "colab": {}
      },
      "source": [
        "################################ Data set: x_train from git #############################\n",
        "###Data-set : v3\n",
        "import pandas as pd\n",
        "url = 'https://raw.githubusercontent.com/DinaTaklit/Loop-Unrolling-Tiramisu-Vf/master/x_train_v3.csv?token=AE4WVKAVM6QBC7R5F2L56WK5BPLOU'\n",
        "x_train_v3 = pd.read_csv(url, delimiter=',', skiprows=1, usecols=range(23), header=None)\n",
        "#x_train1 = pd.read_csv(url, skiprows=1, header=None)\n",
        "################################ Data set: y_train #############################\n",
        "###Data-set : v3\n",
        "url = 'https://raw.githubusercontent.com/DinaTaklit/Loop-Unrolling-Tiramisu-Vf/master/y_train_v3.csv?token=AE4WVKB3GWTW4Z3P5TMQJA25BPMH6'\n",
        "y_train_v3 = pd.read_csv(url, skiprows=1, header=None)\n",
        "\n",
        "################################ Data set: x_train from git #############################\n",
        "###Data-set : v34\n",
        "import pandas as pd\n",
        "url = 'https://raw.githubusercontent.com/DinaTaklit/Loop-Unrolling-Tiramisu-Vf/master/x_train_v34.csv?token=AE4WVKBWZT7IAUMTLWCTI625BPMQ2'\n",
        "x_train_v34 = pd.read_csv(url, delimiter=';', skiprows=1, usecols=range(23), header=None)\n",
        "#x_train1 = pd.read_csv(url, skiprows=1, header=None)\n",
        "\n",
        "################################ Data set: y_train #############################\n",
        "###Data-set : v34\n",
        "url = 'https://raw.githubusercontent.com/DinaTaklit/Loop-Unrolling-Tiramisu-Vf/master/y_train_v34.csv?token=AE4WVKHDWVY5JQB22G6VZ3K5BPMUY'\n",
        "y_train_v34 = pd.read_csv(url, skiprows=1, header=None)\n",
        "################################ Data set: x_train from git #############################\n",
        "###Data-set : v345\n",
        "import pandas as pd\n",
        "url = 'https://raw.githubusercontent.com/DinaTaklit/Loop-Unrolling-Tiramisu-Vf/master/x_train_v345.csv?token=AE4WVKH4ZTRUCMMTJNG2Q6K5BPMWU'\n",
        "x_train_v345 = pd.read_csv(url, delimiter=';', skiprows=1, usecols=range(23), header=None)\n",
        "#x_train1 = pd.read_csv(url, skiprows=1, header=None)\n",
        "################################ Data set: y_train #############################\n",
        "###Data-set : v345\n",
        "url = 'https://raw.githubusercontent.com/DinaTaklit/Loop-Unrolling-Tiramisu-Vf/master/y_train_v345.csv?token=AE4WVKHNSOKT7UTB6CT7VBK5BPMYE'\n",
        "y_train_v345 = pd.read_csv(url, skiprows=1, header=None)\n",
        "################################ Data set: x_train from git #############################\n",
        "###Data-set : v34579\n",
        "import pandas as pd\n",
        "url = 'https://raw.githubusercontent.com/DinaTaklit/Loop-Unrolling-Tiramisu-Vf/master/x_train_v34579.csv?token=AE4WVKHGWOBZUEVRRBITXXK5BPNAA'\n",
        "x_train_v34579 = pd.read_csv(url, delimiter=';', skiprows=1, usecols=range(23), header=None)\n",
        "#x_train1 = pd.read_csv(url, skiprows=1, header=None)\n",
        "################################ Data set: y_train #############################\n",
        "###Data-set : v34579\n",
        "url = 'https://raw.githubusercontent.com/DinaTaklit/Loop-Unrolling-Tiramisu-Vf/master/y_train_v34579.csv?token=AE4WVKGYNUIBEQOZQG2244S5BPNCO'\n",
        "y_train_v34579 = pd.read_csv(url, skiprows=1, header=None)\n",
        "\n",
        "print('x_v3',len(x_train_v3))\n",
        "print('y_v3',len(y_train_v3))\n",
        "\n",
        "print('x_v34',len(x_train_v34))\n",
        "print('y_v34',len(y_train_v34))\n",
        "\n",
        "print('x_v345',len(x_train_v345))\n",
        "print('y_v345',len(y_train_v345))\n",
        "\n",
        "print('x_v3457',len(x_train_v3457))\n",
        "print('y_v3457',len(y_train_v3457))\n",
        "\n",
        "print('x_v34579',len(x_train_v34579))\n",
        "print('y_v34579',len(y_train_v34579))\n",
        "\n",
        "y_train_v3457.hist(bins=20, grid=False, xlabelsize=12, ylabelsize=12)\n",
        "\n",
        "x_train2 = x_train_v3457.copy()\n",
        "y_train2 = y_train_v3457.copy()\n",
        "\n",
        "x_train2['Unroll'] = y_train2 \n",
        "class0 = x_train2[x_train2['Unroll'] == 0]\n",
        "class1 = x_train2[x_train2['Unroll'] == 1]\n",
        "class2 = x_train2[x_train2['Unroll'] == 2]\n",
        "class3 = x_train2[x_train2['Unroll'] == 3]\n",
        "class4 = x_train2[x_train2['Unroll'] == 4]\n",
        "class5 = x_train2[x_train2['Unroll'] == 5]\n",
        "class6 = x_train2[x_train2['Unroll'] == 6]\n",
        "print(\"0: \",len(class0))\n",
        "print(\"1: \",len(class1))\n",
        "print(\"2: \",len(class2))\n",
        "print(\"3: \",len(class3))\n",
        "print(\"4: \",len(class4))\n",
        "print(\"5: \",len(class5))\n",
        "print(\"6: \",len(class6))\n",
        "\n",
        "from sklearn.model_selection import train_test_split\n",
        "x_train = x_train.copy()\n",
        "y_train = y_train.copy()\n",
        "cols = [0,3,11,4]\n",
        "x_train.drop(x_train.columns[cols],axis=1,inplace=True)\n",
        "x_train.fillna(0, inplace=True)\n",
        "x_train, x_test, y_train, y_test = train_test_split(x_train,y_train,test_size=0.02,train_size=0.8,random_state=9)\n",
        "len(x_test)"
      ],
      "execution_count": 0,
      "outputs": []
    }
  ]
}